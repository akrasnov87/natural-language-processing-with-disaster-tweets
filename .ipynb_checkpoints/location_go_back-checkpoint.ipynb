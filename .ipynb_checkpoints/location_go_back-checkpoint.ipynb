{
 "cells": [
  {
   "cell_type": "markdown",
   "id": "2711df97",
   "metadata": {},
   "source": [
    "# Восстановление пропусков"
   ]
  },
  {
   "cell_type": "markdown",
   "id": "210741f2",
   "metadata": {},
   "source": [
    "## Описание"
   ]
  },
  {
   "cell_type": "markdown",
   "id": "bfbb61d7",
   "metadata": {},
   "source": [
    "По описанию `tweets` требуется восстановить пропуски в поле `location`"
   ]
  },
  {
   "cell_type": "code",
   "execution_count": 24,
   "id": "bb87b234",
   "metadata": {},
   "outputs": [],
   "source": [
    "import pandas as pd\n",
    "import numpy as np\n",
    "import matplotlib.pyplot as plt\n",
    "from nltk.tokenize import word_tokenize\n"
   ]
  },
  {
   "cell_type": "code",
   "execution_count": 4,
   "id": "b243e4b2",
   "metadata": {},
   "outputs": [],
   "source": [
    "# объявляем переменную для хранения данных\n",
    "DIR='./data'"
   ]
  },
  {
   "cell_type": "code",
   "execution_count": 9,
   "id": "873ed355",
   "metadata": {},
   "outputs": [
    {
     "name": "stdout",
     "output_type": "stream",
     "text": [
      "<class 'pandas.core.frame.DataFrame'>\n",
      "Int64Index: 7613 entries, 1 to 10873\n",
      "Data columns (total 2 columns):\n",
      " #   Column    Non-Null Count  Dtype \n",
      "---  ------    --------------  ----- \n",
      " 0   location  5080 non-null   object\n",
      " 1   text      7613 non-null   object\n",
      "dtypes: object(2)\n",
      "memory usage: 178.4+ KB\n"
     ]
    },
    {
     "data": {
      "text/html": [
       "<div>\n",
       "<style scoped>\n",
       "    .dataframe tbody tr th:only-of-type {\n",
       "        vertical-align: middle;\n",
       "    }\n",
       "\n",
       "    .dataframe tbody tr th {\n",
       "        vertical-align: top;\n",
       "    }\n",
       "\n",
       "    .dataframe thead th {\n",
       "        text-align: right;\n",
       "    }\n",
       "</style>\n",
       "<table border=\"1\" class=\"dataframe\">\n",
       "  <thead>\n",
       "    <tr style=\"text-align: right;\">\n",
       "      <th></th>\n",
       "      <th>location</th>\n",
       "      <th>text</th>\n",
       "    </tr>\n",
       "    <tr>\n",
       "      <th>id</th>\n",
       "      <th></th>\n",
       "      <th></th>\n",
       "    </tr>\n",
       "  </thead>\n",
       "  <tbody>\n",
       "    <tr>\n",
       "      <th>1</th>\n",
       "      <td>NaN</td>\n",
       "      <td>Our Deeds are the Reason of this #earthquake M...</td>\n",
       "    </tr>\n",
       "    <tr>\n",
       "      <th>4</th>\n",
       "      <td>NaN</td>\n",
       "      <td>Forest fire near La Ronge Sask. Canada</td>\n",
       "    </tr>\n",
       "    <tr>\n",
       "      <th>5</th>\n",
       "      <td>NaN</td>\n",
       "      <td>All residents asked to 'shelter in place' are ...</td>\n",
       "    </tr>\n",
       "    <tr>\n",
       "      <th>6</th>\n",
       "      <td>NaN</td>\n",
       "      <td>13,000 people receive #wildfires evacuation or...</td>\n",
       "    </tr>\n",
       "    <tr>\n",
       "      <th>7</th>\n",
       "      <td>NaN</td>\n",
       "      <td>Just got sent this photo from Ruby #Alaska as ...</td>\n",
       "    </tr>\n",
       "  </tbody>\n",
       "</table>\n",
       "</div>"
      ],
      "text/plain": [
       "   location                                               text\n",
       "id                                                            \n",
       "1       NaN  Our Deeds are the Reason of this #earthquake M...\n",
       "4       NaN             Forest fire near La Ronge Sask. Canada\n",
       "5       NaN  All residents asked to 'shelter in place' are ...\n",
       "6       NaN  13,000 people receive #wildfires evacuation or...\n",
       "7       NaN  Just got sent this photo from Ruby #Alaska as ..."
      ]
     },
     "execution_count": 9,
     "metadata": {},
     "output_type": "execute_result"
    }
   ],
   "source": [
    "df = pd.read_csv(f'{DIR}/train.csv', index_col='id')\n",
    "\n",
    "df = df.loc[:, ['location', 'text']]\n",
    "\n",
    "df.info()\n",
    "\n",
    "df.head()"
   ]
  },
  {
   "cell_type": "code",
   "execution_count": 10,
   "id": "1af79fa4",
   "metadata": {},
   "outputs": [
    {
     "data": {
      "text/plain": [
       "3341"
      ]
     },
     "execution_count": 10,
     "metadata": {},
     "output_type": "execute_result"
    }
   ],
   "source": [
    "# проверка на уникальные значения\n",
    "df['location'].nunique()"
   ]
  },
  {
   "cell_type": "markdown",
   "id": "aea2948c",
   "metadata": {},
   "source": [
    "## Генерация дополнительных признаков"
   ]
  },
  {
   "cell_type": "code",
   "execution_count": 22,
   "id": "51df9287",
   "metadata": {},
   "outputs": [],
   "source": [
    "def get_word_count(txt):\n",
    "    \"\"\"\n",
    "    Calculating the number of words\n",
    "    \n",
    "    Inputs:\n",
    "    -----------\n",
    "    txt: string - input text\n",
    "    \n",
    "    Outputs:\n",
    "    --------\n",
    "    integer - word lengths\n",
    "    \"\"\"\n",
    "    if txt == txt:\n",
    "        txt = txt.lower()\n",
    "        word_tokens = word_tokenize(txt)\n",
    "\n",
    "        return len(word_tokens)\n",
    "    else:\n",
    "        return 0\n",
    "\n",
    "# высчитаем количество слов, которое содержися в поле location\n",
    "df['location_word_count'] = df['location'].apply(get_word_count)"
   ]
  },
  {
   "cell_type": "code",
   "execution_count": 25,
   "id": "e3317cb4",
   "metadata": {},
   "outputs": [
    {
     "data": {
      "image/png": "[encoded data removed]",
      "text/plain": [
       "<Figure size 640x480 with 1 Axes>"
      ]
     },
     "metadata": {},
     "output_type": "display_data"
    }
   ],
   "source": [
    "dfc = df['location_word_count'].value_counts()\n",
    "dfc.sort_index(inplace=True)\n",
    "dfc.plot(kind='bar')\n",
    "plt.title('Word count')\n",
    "plt.ylabel('Count')\n",
    "plt.xlabel('')\n",
    "plt.show()"
   ]
  },
  {
   "cell_type": "markdown",
   "id": "cf2df82b",
   "metadata": {},
   "source": [
    "По дополнительной ссылке ниже можно получить данные по наименованию городов. На основе этой информации создадим новый признак."
   ]
  },
  {
   "cell_type": "code",
   "execution_count": 26,
   "id": "af9886d5",
   "metadata": {},
   "outputs": [
    {
     "data": {
      "text/html": [
       "<div>\n",
       "<style scoped>\n",
       "    .dataframe tbody tr th:only-of-type {\n",
       "        vertical-align: middle;\n",
       "    }\n",
       "\n",
       "    .dataframe tbody tr th {\n",
       "        vertical-align: top;\n",
       "    }\n",
       "\n",
       "    .dataframe thead th {\n",
       "        text-align: right;\n",
       "    }\n",
       "</style>\n",
       "<table border=\"1\" class=\"dataframe\">\n",
       "  <thead>\n",
       "    <tr style=\"text-align: right;\">\n",
       "      <th></th>\n",
       "      <th>Country</th>\n",
       "      <th>City</th>\n",
       "      <th>Name</th>\n",
       "      <th>Type</th>\n",
       "    </tr>\n",
       "  </thead>\n",
       "  <tbody>\n",
       "    <tr>\n",
       "      <th>0</th>\n",
       "      <td>AD</td>\n",
       "      <td>02</td>\n",
       "      <td>Canillo</td>\n",
       "      <td>Parish</td>\n",
       "    </tr>\n",
       "    <tr>\n",
       "      <th>1</th>\n",
       "      <td>AD</td>\n",
       "      <td>03</td>\n",
       "      <td>Encamp</td>\n",
       "      <td>Parish</td>\n",
       "    </tr>\n",
       "    <tr>\n",
       "      <th>2</th>\n",
       "      <td>AD</td>\n",
       "      <td>04</td>\n",
       "      <td>La Massana</td>\n",
       "      <td>Parish</td>\n",
       "    </tr>\n",
       "    <tr>\n",
       "      <th>3</th>\n",
       "      <td>AD</td>\n",
       "      <td>05</td>\n",
       "      <td>Ordino</td>\n",
       "      <td>Parish</td>\n",
       "    </tr>\n",
       "    <tr>\n",
       "      <th>4</th>\n",
       "      <td>AD</td>\n",
       "      <td>06</td>\n",
       "      <td>Sant Juliа de Lтria</td>\n",
       "      <td>Parish</td>\n",
       "    </tr>\n",
       "  </tbody>\n",
       "</table>\n",
       "</div>"
      ],
      "text/plain": [
       "  Country City                 Name    Type\n",
       "0      AD   02              Canillo  Parish\n",
       "1      AD   03               Encamp  Parish\n",
       "2      AD   04           La Massana  Parish\n",
       "3      AD   05               Ordino  Parish\n",
       "4      AD   06  Sant Juliа de Lтria  Parish"
      ]
     },
     "execution_count": 26,
     "metadata": {},
     "output_type": "execute_result"
    }
   ],
   "source": [
    "# https://unece.org/trade/cefact/UNLOCODE-Download\n",
    "division_code_df = pd.read_csv(f'{DIR}/2023-1 SubdivisionCodes.csv', names=['Country', 'City', 'Name', 'Type'])\n",
    "\n",
    "division_code_df.head()"
   ]
  },
  {
   "cell_type": "code",
   "execution_count": 27,
   "id": "aad41fc1",
   "metadata": {},
   "outputs": [],
   "source": [
    "# Получение списка городов\n",
    "names = list(division_code_df['Name'].str.lower())"
   ]
  },
  {
   "cell_type": "code",
   "execution_count": 28,
   "id": "cf1da55c",
   "metadata": {},
   "outputs": [
    {
     "data": {
      "text/html": [
       "<div>\n",
       "<style scoped>\n",
       "    .dataframe tbody tr th:only-of-type {\n",
       "        vertical-align: middle;\n",
       "    }\n",
       "\n",
       "    .dataframe tbody tr th {\n",
       "        vertical-align: top;\n",
       "    }\n",
       "\n",
       "    .dataframe thead th {\n",
       "        text-align: right;\n",
       "    }\n",
       "</style>\n",
       "<table border=\"1\" class=\"dataframe\">\n",
       "  <thead>\n",
       "    <tr style=\"text-align: right;\">\n",
       "      <th></th>\n",
       "      <th>Name</th>\n",
       "      <th>Code</th>\n",
       "    </tr>\n",
       "  </thead>\n",
       "  <tbody>\n",
       "    <tr>\n",
       "      <th>0</th>\n",
       "      <td>Afghanistan</td>\n",
       "      <td>AF</td>\n",
       "    </tr>\n",
       "    <tr>\n",
       "      <th>1</th>\n",
       "      <td>Åland Islands</td>\n",
       "      <td>AX</td>\n",
       "    </tr>\n",
       "    <tr>\n",
       "      <th>2</th>\n",
       "      <td>Albania</td>\n",
       "      <td>AL</td>\n",
       "    </tr>\n",
       "    <tr>\n",
       "      <th>3</th>\n",
       "      <td>Algeria</td>\n",
       "      <td>DZ</td>\n",
       "    </tr>\n",
       "    <tr>\n",
       "      <th>4</th>\n",
       "      <td>American Samoa</td>\n",
       "      <td>AS</td>\n",
       "    </tr>\n",
       "  </tbody>\n",
       "</table>\n",
       "</div>"
      ],
      "text/plain": [
       "             Name Code\n",
       "0     Afghanistan   AF\n",
       "1   Åland Islands   AX\n",
       "2         Albania   AL\n",
       "3         Algeria   DZ\n",
       "4  American Samoa   AS"
      ]
     },
     "execution_count": 28,
     "metadata": {},
     "output_type": "execute_result"
    }
   ],
   "source": [
    "# Получение списка стран\n",
    "country_df = pd.read_csv(f'{DIR}/country-list_data.csv')\n",
    "\n",
    "country_df.head()"
   ]
  },
  {
   "cell_type": "code",
   "execution_count": 29,
   "id": "49183384",
   "metadata": {},
   "outputs": [
    {
     "data": {
      "text/html": [
       "<div>\n",
       "<style scoped>\n",
       "    .dataframe tbody tr th:only-of-type {\n",
       "        vertical-align: middle;\n",
       "    }\n",
       "\n",
       "    .dataframe tbody tr th {\n",
       "        vertical-align: top;\n",
       "    }\n",
       "\n",
       "    .dataframe thead th {\n",
       "        text-align: right;\n",
       "    }\n",
       "</style>\n",
       "<table border=\"1\" class=\"dataframe\">\n",
       "  <thead>\n",
       "    <tr style=\"text-align: right;\">\n",
       "      <th></th>\n",
       "      <th>Name</th>\n",
       "      <th>Code</th>\n",
       "    </tr>\n",
       "  </thead>\n",
       "  <tbody>\n",
       "    <tr>\n",
       "      <th>5</th>\n",
       "      <td>Andorra</td>\n",
       "      <td>AD</td>\n",
       "    </tr>\n",
       "  </tbody>\n",
       "</table>\n",
       "</div>"
      ],
      "text/plain": [
       "      Name Code\n",
       "5  Andorra   AD"
      ]
     },
     "execution_count": 29,
     "metadata": {},
     "output_type": "execute_result"
    }
   ],
   "source": [
    "country_df[country_df['Code'] == 'AD']"
   ]
  },
  {
   "cell_type": "code",
   "execution_count": 30,
   "id": "e1a1bec1",
   "metadata": {},
   "outputs": [],
   "source": [
    "countries = list(country_df['Name'].str.lower())"
   ]
  },
  {
   "cell_type": "code",
   "execution_count": 32,
   "id": "df5c88aa",
   "metadata": {},
   "outputs": [],
   "source": [
    "def is_country(txt):\n",
    "    \"\"\"\n",
    "    Содержится ли наименование страны во входном значении\n",
    "    \n",
    "    Параметры:\n",
    "    ----------\n",
    "    txt: string - входная строка\n",
    "    \n",
    "    Результат:\n",
    "    ----------\n",
    "    integer - 1 - Да, 0 - Нет\n",
    "    \"\"\"\n",
    "    if txt == txt:\n",
    "        txt = txt.lower()\n",
    "\n",
    "        for country in countries:\n",
    "            if country in txt:\n",
    "                return 1\n",
    "    \n",
    "    return 0\n",
    "\n",
    "# новый целевой признак, содержится ли в подстроке location упоминание о стране\n",
    "df['isCountry'] = df['location'].apply(is_country)"
   ]
  },
  {
   "cell_type": "code",
   "execution_count": 33,
   "id": "f66401ff",
   "metadata": {},
   "outputs": [],
   "source": [
    "def is_city(txt):\n",
    "    \"\"\"\n",
    "    Содержится ли наименование города во входном значении\n",
    "    \n",
    "    Параметры:\n",
    "    ----------\n",
    "    txt: string - входная строка\n",
    "    \n",
    "    Результат:\n",
    "    ----------\n",
    "    integer - 1 - Да, 0 - Нет\n",
    "    \"\"\"\n",
    "    if txt == txt:\n",
    "        txt = txt.lower()\n",
    "\n",
    "        for name in names:\n",
    "            if name in txt:\n",
    "                return 1\n",
    "    \n",
    "    return 0\n",
    "\n",
    "# новый целевой признак, содержится ли в подстроке location упоминание о городе\n",
    "df['isCity'] = df['location'].apply(is_city)"
   ]
  },
  {
   "cell_type": "code",
   "execution_count": 35,
   "id": "83235c9a",
   "metadata": {},
   "outputs": [
    {
     "data": {
      "text/plain": [
       "(2784, 5)"
      ]
     },
     "execution_count": 35,
     "metadata": {},
     "output_type": "execute_result"
    }
   ],
   "source": [
    "df[(df['isCountry'] == 1) | (df['isCity'] == 1)].shape"
   ]
  },
  {
   "cell_type": "code",
   "execution_count": null,
   "id": "237a6751",
   "metadata": {},
   "outputs": [],
   "source": []
  }
 ],
 "metadata": {
  "kernelspec": {
   "display_name": "Pytorch GPU (Python 3.10)",
   "language": "python",
   "name": "pytorch-gpu-python-3-10"
  },
  "language_info": {
   "codemirror_mode": {
    "name": "ipython",
    "version": 3
   },
   "file_extension": ".py",
   "mimetype": "text/x-python",
   "name": "python",
   "nbconvert_exporter": "python",
   "pygments_lexer": "ipython3",
   "version": "3.10.11"
  },
  "toc": {
   "base_numbering": 1,
   "nav_menu": {},
   "number_sections": false,
   "sideBar": true,
   "skip_h1_title": false,
   "title_cell": "Table of Contents",
   "title_sidebar": "Contents",
   "toc_cell": false,
   "toc_position": {},
   "toc_section_display": true,
   "toc_window_display": true
  }
 },
 "nbformat": 4,
 "nbformat_minor": 5
}

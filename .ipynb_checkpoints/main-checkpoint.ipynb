{
 "cells": [
  {
   "cell_type": "markdown",
   "id": "a12ea0a6",
   "metadata": {},
   "source": [
    "# Natural Language Processing with Disaster Tweets"
   ]
  },
  {
   "cell_type": "markdown",
   "id": "5dca546b",
   "metadata": {},
   "source": [
    "## Описание"
   ]
  },
  {
   "cell_type": "markdown",
   "id": "9fb56e40",
   "metadata": {},
   "source": [
    "В этом конкурсе требуется создать модель машинного обучения, которая предсказывает, какие твиты посвящены реальным катастрофам, а какие нет."
   ]
  },
  {
   "cell_type": "markdown",
   "id": "815d97da",
   "metadata": {},
   "source": [
    "## Загрузка данных"
   ]
  },
  {
   "cell_type": "code",
   "execution_count": 1,
   "id": "bfdf4ff0",
   "metadata": {},
   "outputs": [],
   "source": [
    "!pip install pathlib==1.0.1 -q"
   ]
  },
  {
   "cell_type": "code",
   "execution_count": 2,
   "id": "b679ab9b",
   "metadata": {},
   "outputs": [],
   "source": [
    "import os\n",
    "import torch\n",
    "import pickle\n",
    "import random \n",
    "import pandas as pd\n",
    "import numpy as np\n",
    "import torch.nn as nn\n",
    "import matplotlib.pyplot as plt\n",
    "from nltk.tokenize import word_tokenize\n",
    "from tqdm import tqdm\n",
    "from transformers import AutoTokenizer, AutoModel\n",
    "from sklearn.model_selection import train_test_split, GridSearchCV\n",
    "from sklearn.preprocessing import StandardScaler\n",
    "from sklearn.linear_model import LogisticRegression\n",
    "from sklearn.ensemble import RandomForestClassifier\n",
    "from catboost import CatBoostClassifier\n",
    "from torch.utils.data import Dataset\n",
    "from torch.utils.data import DataLoader\n",
    "from datasets import Dataset, load_metric"
   ]
  },
  {
   "cell_type": "code",
   "execution_count": 3,
   "id": "54e8dcb2",
   "metadata": {},
   "outputs": [],
   "source": [
    "# объявляем переменную для хранения данных\n",
    "DIR='./data'"
   ]
  },
  {
   "cell_type": "code",
   "execution_count": 4,
   "id": "99eba4a7",
   "metadata": {},
   "outputs": [
    {
     "name": "stdout",
     "output_type": "stream",
     "text": [
      "<class 'pandas.core.frame.DataFrame'>\n",
      "Int64Index: 7613 entries, 1 to 10873\n",
      "Data columns (total 4 columns):\n",
      " #   Column    Non-Null Count  Dtype \n",
      "---  ------    --------------  ----- \n",
      " 0   keyword   7552 non-null   object\n",
      " 1   location  5080 non-null   object\n",
      " 2   text      7613 non-null   object\n",
      " 3   target    7613 non-null   int64 \n",
      "dtypes: int64(1), object(3)\n",
      "memory usage: 297.4+ KB\n"
     ]
    },
    {
     "data": {
      "text/html": [
       "<div>\n",
       "<style scoped>\n",
       "    .dataframe tbody tr th:only-of-type {\n",
       "        vertical-align: middle;\n",
       "    }\n",
       "\n",
       "    .dataframe tbody tr th {\n",
       "        vertical-align: top;\n",
       "    }\n",
       "\n",
       "    .dataframe thead th {\n",
       "        text-align: right;\n",
       "    }\n",
       "</style>\n",
       "<table border=\"1\" class=\"dataframe\">\n",
       "  <thead>\n",
       "    <tr style=\"text-align: right;\">\n",
       "      <th></th>\n",
       "      <th>keyword</th>\n",
       "      <th>location</th>\n",
       "      <th>text</th>\n",
       "      <th>target</th>\n",
       "    </tr>\n",
       "    <tr>\n",
       "      <th>id</th>\n",
       "      <th></th>\n",
       "      <th></th>\n",
       "      <th></th>\n",
       "      <th></th>\n",
       "    </tr>\n",
       "  </thead>\n",
       "  <tbody>\n",
       "    <tr>\n",
       "      <th>1</th>\n",
       "      <td>NaN</td>\n",
       "      <td>NaN</td>\n",
       "      <td>Our Deeds are the Reason of this #earthquake M...</td>\n",
       "      <td>1</td>\n",
       "    </tr>\n",
       "    <tr>\n",
       "      <th>4</th>\n",
       "      <td>NaN</td>\n",
       "      <td>NaN</td>\n",
       "      <td>Forest fire near La Ronge Sask. Canada</td>\n",
       "      <td>1</td>\n",
       "    </tr>\n",
       "    <tr>\n",
       "      <th>5</th>\n",
       "      <td>NaN</td>\n",
       "      <td>NaN</td>\n",
       "      <td>All residents asked to 'shelter in place' are ...</td>\n",
       "      <td>1</td>\n",
       "    </tr>\n",
       "    <tr>\n",
       "      <th>6</th>\n",
       "      <td>NaN</td>\n",
       "      <td>NaN</td>\n",
       "      <td>13,000 people receive #wildfires evacuation or...</td>\n",
       "      <td>1</td>\n",
       "    </tr>\n",
       "    <tr>\n",
       "      <th>7</th>\n",
       "      <td>NaN</td>\n",
       "      <td>NaN</td>\n",
       "      <td>Just got sent this photo from Ruby #Alaska as ...</td>\n",
       "      <td>1</td>\n",
       "    </tr>\n",
       "  </tbody>\n",
       "</table>\n",
       "</div>"
      ],
      "text/plain": [
       "   keyword location                                               text  target\n",
       "id                                                                            \n",
       "1      NaN      NaN  Our Deeds are the Reason of this #earthquake M...       1\n",
       "4      NaN      NaN             Forest fire near La Ronge Sask. Canada       1\n",
       "5      NaN      NaN  All residents asked to 'shelter in place' are ...       1\n",
       "6      NaN      NaN  13,000 people receive #wildfires evacuation or...       1\n",
       "7      NaN      NaN  Just got sent this photo from Ruby #Alaska as ...       1"
      ]
     },
     "execution_count": 4,
     "metadata": {},
     "output_type": "execute_result"
    }
   ],
   "source": [
    "df = pd.read_csv(f'{DIR}/train.csv', index_col='id')\n",
    "\n",
    "df.info()\n",
    "\n",
    "df.head()"
   ]
  },
  {
   "cell_type": "code",
   "execution_count": 5,
   "id": "08e5e2ea",
   "metadata": {},
   "outputs": [
    {
     "data": {
      "image/png": "[encoded data removed]",
      "text/plain": [
       "<Figure size 640x480 with 1 Axes>"
      ]
     },
     "metadata": {},
     "output_type": "display_data"
    }
   ],
   "source": [
    "#проверим на дисбаланс целевого признака\n",
    "df['target'].value_counts().plot(kind='bar')\n",
    "plt.title('Дисбаланс целевого признака')\n",
    "plt.ylabel('count')\n",
    "plt.xlabel('target')\n",
    "plt.show()"
   ]
  },
  {
   "cell_type": "markdown",
   "id": "47504785",
   "metadata": {},
   "source": [
    "__Примечание__: существенного дисбаланса не видно"
   ]
  },
  {
   "cell_type": "markdown",
   "id": "a58a0b17",
   "metadata": {},
   "source": [
    "## Заполнение пропусков"
   ]
  },
  {
   "cell_type": "markdown",
   "id": "115d89da",
   "metadata": {},
   "source": [
    "### Location"
   ]
  },
  {
   "cell_type": "code",
   "execution_count": 6,
   "id": "57abd465",
   "metadata": {},
   "outputs": [
    {
     "data": {
      "text/plain": [
       "3341"
      ]
     },
     "execution_count": 6,
     "metadata": {},
     "output_type": "execute_result"
    }
   ],
   "source": [
    "# Проверяем уникальность\n",
    "df['location'].nunique()"
   ]
  },
  {
   "cell_type": "code",
   "execution_count": 7,
   "id": "204f46a2",
   "metadata": {},
   "outputs": [
    {
     "data": {
      "text/plain": [
       "2533"
      ]
     },
     "execution_count": 7,
     "metadata": {},
     "output_type": "execute_result"
    }
   ],
   "source": [
    "df['location'].isna().sum()"
   ]
  },
  {
   "cell_type": "markdown",
   "id": "44ef56fe",
   "metadata": {},
   "source": [
    "Заполнять попуски будем при помощи дополнительной модели, которая будет предсказывать наличия страны (города) в `location`"
   ]
  },
  {
   "cell_type": "code",
   "execution_count": 8,
   "id": "9af1fd72",
   "metadata": {},
   "outputs": [],
   "source": [
    "dfl = df.loc[~df['location'].isna()]"
   ]
  },
  {
   "cell_type": "code",
   "execution_count": 11,
   "id": "6f503618",
   "metadata": {},
   "outputs": [],
   "source": [
    "from transformers import AutoModelForSequenceClassification, AutoTokenizer\n",
    "from transformers import pipeline\n",
    "MODEL_PATH = \"Cleighton071/autotrain-detection-for-product-location-44269111684\"\n",
    "model = AutoModelForSequenceClassification.from_pretrained(MODEL_PATH)\n",
    "tokenizer = AutoTokenizer.from_pretrained(MODEL_PATH)"
   ]
  },
  {
   "cell_type": "code",
   "execution_count": 15,
   "id": "c8cd2f46",
   "metadata": {},
   "outputs": [
    {
     "data": {
      "text/plain": [
       "[{'label': 'Location', 'score': 0.9967827796936035}]"
      ]
     },
     "execution_count": 15,
     "metadata": {},
     "output_type": "execute_result"
    }
   ],
   "source": [
    "classifier = pipeline(\"sentiment-analysis\", model=model, tokenizer=tokenizer)\n",
    "classifier('i love you')"
   ]
  },
  {
   "cell_type": "code",
   "execution_count": 18,
   "id": "a83237c7",
   "metadata": {},
   "outputs": [],
   "source": [
    "inputs = tokenizer('i love you', return_tensors=\"pt\")\n",
    "\n",
    "outputs = model(**inputs)"
   ]
  },
  {
   "cell_type": "code",
   "execution_count": 20,
   "id": "ea727140",
   "metadata": {},
   "outputs": [
    {
     "name": "stdout",
     "output_type": "stream",
     "text": [
      "tensor([[0.0032, 0.9968]], grad_fn=<SoftmaxBackward0>)\n"
     ]
    }
   ],
   "source": [
    "pt_predictions = nn.functional.softmax(outputs.logits, dim=-1)\n",
    "print(pt_predictions)"
   ]
  },
  {
   "cell_type": "code",
   "execution_count": 71,
   "id": "5af3aeac",
   "metadata": {},
   "outputs": [
    {
     "data": {
      "text/plain": [
       "tensor([0])"
      ]
     },
     "execution_count": 71,
     "metadata": {},
     "output_type": "execute_result"
    }
   ],
   "source": [
    "logits = outputs[0]\n",
    "predictions = torch.argmax(logits, dim=1).flatten()\n",
    "\n",
    "predictions"
   ]
  },
  {
   "cell_type": "code",
   "execution_count": 20,
   "id": "1f419234",
   "metadata": {},
   "outputs": [
    {
     "data": {
      "image/png": "[encoded data removed]",
      "text/plain": [
       "<Figure size 640x480 with 1 Axes>"
      ]
     },
     "metadata": {},
     "output_type": "display_data"
    }
   ],
   "source": [
    "# вычислим максимальную длину токенов\n",
    "seq_len = [len(tokenizer.encode(i, add_special_tokens=True)) for i in df.loc[~df['location'].isna(), 'location']]\n",
    "\n",
    "pd.Series(seq_len).hist()\n",
    "plt.title('Распределение длины текста')\n",
    "plt.xlabel('Длина символов')\n",
    "\n",
    "plt.ylabel('Количество')\n",
    "plt.show()"
   ]
  },
  {
   "cell_type": "code",
   "execution_count": 21,
   "id": "11175453",
   "metadata": {},
   "outputs": [
    {
     "name": "stdout",
     "output_type": "stream",
     "text": [
      "На основе полученной информации определим среднее значение равной 8\n"
     ]
    }
   ],
   "source": [
    "max_seq_len = 8\n",
    "print(f'На основе полученной информации определим среднее значение равной {max_seq_len}')"
   ]
  },
  {
   "cell_type": "code",
   "execution_count": 23,
   "id": "828d2152",
   "metadata": {},
   "outputs": [],
   "source": [
    "dfl = df.loc[~df['location'].isna(), ['location', 'target']]\n",
    "dfl = dfl.rename(columns={'target': 'label'})"
   ]
  },
  {
   "cell_type": "code",
   "execution_count": 24,
   "id": "ca924901",
   "metadata": {},
   "outputs": [],
   "source": [
    "# создаём dataset\n",
    "# для тестирования выделяем 10%\n",
    "raw_datasets = Dataset.from_pandas(dfl, preserve_index=False).train_test_split(test_size=0.1)"
   ]
  },
  {
   "cell_type": "code",
   "execution_count": 25,
   "id": "f89a2ca3",
   "metadata": {},
   "outputs": [
    {
     "data": {
      "application/vnd.jupyter.widget-view+json": {
       "model_id": "bf781c4dc9064f34a8a053c9f92e59a4",
       "version_major": 2,
       "version_minor": 0
      },
      "text/plain": [
       "Map:   0%|          | 0/4572 [00:00<?, ? examples/s]"
      ]
     },
     "metadata": {},
     "output_type": "display_data"
    },
    {
     "data": {
      "application/vnd.jupyter.widget-view+json": {
       "model_id": "533d82a4708b44fb986cc4b16662f20b",
       "version_major": 2,
       "version_minor": 0
      },
      "text/plain": [
       "Map:   0%|          | 0/508 [00:00<?, ? examples/s]"
      ]
     },
     "metadata": {},
     "output_type": "display_data"
    }
   ],
   "source": [
    "def tokenize_function(examples):\n",
    "    return tokenizer(examples[\"location\"],\n",
    "                     padding=\"max_length\",\n",
    "                     max_length=max_seq_len,\n",
    "                     truncation=True,\n",
    "                     return_attention_mask=True,\n",
    "                     return_token_type_ids=True,\n",
    "                     return_tensors='pt')\n",
    "\n",
    "tokenized_datasets = raw_datasets.map(tokenize_function, batched=True)\n",
    "\n",
    "train_dataset = tokenized_datasets[\"train\"]\n",
    "eval_dataset = tokenized_datasets[\"test\"]"
   ]
  },
  {
   "cell_type": "code",
   "execution_count": 26,
   "id": "2b57ce47",
   "metadata": {},
   "outputs": [
    {
     "data": {
      "text/plain": [
       "Dataset({\n",
       "    features: ['location', 'label', 'input_ids', 'token_type_ids', 'attention_mask'],\n",
       "    num_rows: 4572\n",
       "})"
      ]
     },
     "execution_count": 26,
     "metadata": {},
     "output_type": "execute_result"
    }
   ],
   "source": [
    "train_dataset"
   ]
  },
  {
   "cell_type": "code",
   "execution_count": null,
   "id": "156dffb8",
   "metadata": {},
   "outputs": [],
   "source": [
    "class LocationTransform():\n",
    "    \n",
    "    def __init__(self):\n",
    "        \n",
    "    #def fit_transform(self):\n",
    "    \n",
    "    #def transform(self):\n",
    "    \n",
    "    def fit(self):\n",
    "        "
   ]
  },
  {
   "cell_type": "code",
   "execution_count": null,
   "id": "d09e6b93",
   "metadata": {},
   "outputs": [],
   "source": [
    "locationTransform = LocationTransform()\n",
    "locationTransform.fit()"
   ]
  },
  {
   "cell_type": "code",
   "execution_count": 192,
   "id": "457f7a7d",
   "metadata": {},
   "outputs": [],
   "source": [
    "# заполним пропуски\n",
    "df['location'] = df['location'].fillna('unknown')"
   ]
  },
  {
   "cell_type": "code",
   "execution_count": 193,
   "id": "405865c6",
   "metadata": {},
   "outputs": [],
   "source": [
    "def get_word_count(txt):\n",
    "    \"\"\"\n",
    "    Calculating the number of words\n",
    "    \n",
    "    Inputs:\n",
    "    -----------\n",
    "    txt: string - input text\n",
    "    \n",
    "    Outputs:\n",
    "    --------\n",
    "    integer - word lengths\n",
    "    \"\"\"\n",
    "    txt = txt.lower()\n",
    "    word_tokens = word_tokenize(txt)\n",
    "    \n",
    "    return len(word_tokens)\n",
    "\n",
    "# высчитаем количество слов, которое содержися в поле location\n",
    "df['location_word_count'] = df['location'].apply(get_word_count)"
   ]
  },
  {
   "cell_type": "code",
   "execution_count": 194,
   "id": "b17c0ede",
   "metadata": {},
   "outputs": [
    {
     "data": {
      "image/png": "[encoded data removed]",
      "text/plain": [
       "<Figure size 432x288 with 1 Axes>"
      ]
     },
     "metadata": {
      "needs_background": "light"
     },
     "output_type": "display_data"
    }
   ],
   "source": [
    "dfc = df['location_word_count'].value_counts()\n",
    "dfc.sort_index(inplace=True)\n",
    "dfc.plot(kind='bar')\n",
    "plt.title('Word count')\n",
    "plt.ylabel('Count')\n",
    "plt.xlabel('')\n",
    "plt.show()"
   ]
  },
  {
   "cell_type": "markdown",
   "id": "fd0665a9",
   "metadata": {},
   "source": [
    "__Note__: есть достаточно длинные словосочетания"
   ]
  },
  {
   "cell_type": "markdown",
   "id": "fb9c6569",
   "metadata": {},
   "source": [
    "#### Загрузка дополнительных данных"
   ]
  },
  {
   "cell_type": "markdown",
   "id": "14d7118a",
   "metadata": {},
   "source": [
    "По дополнительной ссылке ниже можно получить данные по наименованию городов. На основе этой информации создадим новый признак."
   ]
  },
  {
   "cell_type": "code",
   "execution_count": 195,
   "id": "fc1eb933",
   "metadata": {},
   "outputs": [
    {
     "data": {
      "text/html": [
       "<div>\n",
       "<style scoped>\n",
       "    .dataframe tbody tr th:only-of-type {\n",
       "        vertical-align: middle;\n",
       "    }\n",
       "\n",
       "    .dataframe tbody tr th {\n",
       "        vertical-align: top;\n",
       "    }\n",
       "\n",
       "    .dataframe thead th {\n",
       "        text-align: right;\n",
       "    }\n",
       "</style>\n",
       "<table border=\"1\" class=\"dataframe\">\n",
       "  <thead>\n",
       "    <tr style=\"text-align: right;\">\n",
       "      <th></th>\n",
       "      <th>Country</th>\n",
       "      <th>City</th>\n",
       "      <th>Name</th>\n",
       "      <th>Type</th>\n",
       "    </tr>\n",
       "  </thead>\n",
       "  <tbody>\n",
       "    <tr>\n",
       "      <th>0</th>\n",
       "      <td>AD</td>\n",
       "      <td>02</td>\n",
       "      <td>Canillo</td>\n",
       "      <td>Parish</td>\n",
       "    </tr>\n",
       "    <tr>\n",
       "      <th>1</th>\n",
       "      <td>AD</td>\n",
       "      <td>03</td>\n",
       "      <td>Encamp</td>\n",
       "      <td>Parish</td>\n",
       "    </tr>\n",
       "    <tr>\n",
       "      <th>2</th>\n",
       "      <td>AD</td>\n",
       "      <td>04</td>\n",
       "      <td>La Massana</td>\n",
       "      <td>Parish</td>\n",
       "    </tr>\n",
       "    <tr>\n",
       "      <th>3</th>\n",
       "      <td>AD</td>\n",
       "      <td>05</td>\n",
       "      <td>Ordino</td>\n",
       "      <td>Parish</td>\n",
       "    </tr>\n",
       "    <tr>\n",
       "      <th>4</th>\n",
       "      <td>AD</td>\n",
       "      <td>06</td>\n",
       "      <td>Sant Juliа de Lтria</td>\n",
       "      <td>Parish</td>\n",
       "    </tr>\n",
       "  </tbody>\n",
       "</table>\n",
       "</div>"
      ],
      "text/plain": [
       "  Country City                 Name    Type\n",
       "0      AD   02              Canillo  Parish\n",
       "1      AD   03               Encamp  Parish\n",
       "2      AD   04           La Massana  Parish\n",
       "3      AD   05               Ordino  Parish\n",
       "4      AD   06  Sant Juliа de Lтria  Parish"
      ]
     },
     "execution_count": 195,
     "metadata": {},
     "output_type": "execute_result"
    }
   ],
   "source": [
    "# https://unece.org/trade/cefact/UNLOCODE-Download\n",
    "division_code_df = pd.read_csv(f'{DIR}/2023-1 SubdivisionCodes.csv', names=['Country', 'City', 'Name', 'Type'])\n",
    "\n",
    "division_code_df.head()"
   ]
  },
  {
   "cell_type": "code",
   "execution_count": 196,
   "id": "01720523",
   "metadata": {},
   "outputs": [],
   "source": [
    "# Получение списка городов\n",
    "names = list(division_code_df['Name'].str.lower())"
   ]
  },
  {
   "cell_type": "code",
   "execution_count": 197,
   "id": "da7da71b",
   "metadata": {},
   "outputs": [
    {
     "data": {
      "text/html": [
       "<div>\n",
       "<style scoped>\n",
       "    .dataframe tbody tr th:only-of-type {\n",
       "        vertical-align: middle;\n",
       "    }\n",
       "\n",
       "    .dataframe tbody tr th {\n",
       "        vertical-align: top;\n",
       "    }\n",
       "\n",
       "    .dataframe thead th {\n",
       "        text-align: right;\n",
       "    }\n",
       "</style>\n",
       "<table border=\"1\" class=\"dataframe\">\n",
       "  <thead>\n",
       "    <tr style=\"text-align: right;\">\n",
       "      <th></th>\n",
       "      <th>Name</th>\n",
       "      <th>Code</th>\n",
       "    </tr>\n",
       "  </thead>\n",
       "  <tbody>\n",
       "    <tr>\n",
       "      <th>0</th>\n",
       "      <td>Afghanistan</td>\n",
       "      <td>AF</td>\n",
       "    </tr>\n",
       "    <tr>\n",
       "      <th>1</th>\n",
       "      <td>Åland Islands</td>\n",
       "      <td>AX</td>\n",
       "    </tr>\n",
       "    <tr>\n",
       "      <th>2</th>\n",
       "      <td>Albania</td>\n",
       "      <td>AL</td>\n",
       "    </tr>\n",
       "    <tr>\n",
       "      <th>3</th>\n",
       "      <td>Algeria</td>\n",
       "      <td>DZ</td>\n",
       "    </tr>\n",
       "    <tr>\n",
       "      <th>4</th>\n",
       "      <td>American Samoa</td>\n",
       "      <td>AS</td>\n",
       "    </tr>\n",
       "  </tbody>\n",
       "</table>\n",
       "</div>"
      ],
      "text/plain": [
       "             Name Code\n",
       "0     Afghanistan   AF\n",
       "1   Åland Islands   AX\n",
       "2         Albania   AL\n",
       "3         Algeria   DZ\n",
       "4  American Samoa   AS"
      ]
     },
     "execution_count": 197,
     "metadata": {},
     "output_type": "execute_result"
    }
   ],
   "source": [
    "# Получение списка стран\n",
    "country_df = pd.read_csv(f'{DIR}/country-list_data.csv')\n",
    "\n",
    "country_df.head()"
   ]
  },
  {
   "cell_type": "code",
   "execution_count": 198,
   "id": "26ddb9d6",
   "metadata": {},
   "outputs": [],
   "source": [
    "countries = list(country_df['Name'].str.lower())"
   ]
  },
  {
   "cell_type": "markdown",
   "id": "ca7df4e9",
   "metadata": {},
   "source": [
    "#### Обработка данных "
   ]
  },
  {
   "cell_type": "code",
   "execution_count": 199,
   "id": "ed0c6ba4",
   "metadata": {},
   "outputs": [],
   "source": [
    "def is_country(txt):\n",
    "    \"\"\"\n",
    "    Содержится ли наименование страны во входном значении\n",
    "    \n",
    "    Параметры:\n",
    "    ----------\n",
    "    txt: string - входная строка\n",
    "    \n",
    "    Результат:\n",
    "    ----------\n",
    "    integer - 1 - Да, 0 - Нет\n",
    "    \"\"\"\n",
    "    txt = txt.lower()\n",
    "    \n",
    "    for country in countries:\n",
    "        if country in txt:\n",
    "            return 1\n",
    "    \n",
    "    return 0\n",
    "\n",
    "# новый целевой признак, содержится ли в подстроке location упоминание о стране\n",
    "df['isCountry'] = df['location'].apply(is_country)"
   ]
  },
  {
   "cell_type": "code",
   "execution_count": 200,
   "id": "ae9dc2d9",
   "metadata": {},
   "outputs": [],
   "source": [
    "def is_city(txt):\n",
    "    \"\"\"\n",
    "    Содержится ли наименование города во входном значении\n",
    "    \n",
    "    Параметры:\n",
    "    ----------\n",
    "    txt: string - входная строка\n",
    "    \n",
    "    Результат:\n",
    "    ----------\n",
    "    integer - 1 - Да, 0 - Нет\n",
    "    \"\"\"\n",
    "    txt = txt.lower()\n",
    "    \n",
    "    for name in names:\n",
    "        if name in txt:\n",
    "            return 1\n",
    "    \n",
    "    return 0\n",
    "\n",
    "# новый целевой признак, содержится ли в подстроке location упоминание о городе\n",
    "df['isCity'] = df['location'].apply(is_city)"
   ]
  },
  {
   "cell_type": "code",
   "execution_count": 201,
   "id": "29ed5234",
   "metadata": {},
   "outputs": [],
   "source": [
    "# обработаем остальные значения\n",
    "df['isUnknown'] = df['location'] == 'unknown'\n",
    "df['isUnknown'] = df['isUnknown'].map({ True: 1, False: 0 })\n",
    "\n",
    "df['isOther'] = (df['isCity'] == False) & (df['isCountry'] == False) & (df['isUnknown'] == False)\n",
    "df['isOther'] = df['isOther'].map({ True: 1, False: 0 })"
   ]
  },
  {
   "cell_type": "markdown",
   "id": "d8a77d89",
   "metadata": {},
   "source": [
    "### Keyword"
   ]
  },
  {
   "cell_type": "markdown",
   "id": "707e616a",
   "metadata": {},
   "source": [
    "Аналогично `location` выполним обработку поля `keyword`"
   ]
  },
  {
   "cell_type": "code",
   "execution_count": 202,
   "id": "5843e211",
   "metadata": {},
   "outputs": [],
   "source": [
    "df['keyword'] = df['keyword'].fillna('unknown')"
   ]
  },
  {
   "cell_type": "code",
   "execution_count": 203,
   "id": "685ff117",
   "metadata": {},
   "outputs": [
    {
     "data": {
      "text/plain": [
       "222"
      ]
     },
     "execution_count": 203,
     "metadata": {},
     "output_type": "execute_result"
    }
   ],
   "source": [
    "df['keyword'].nunique()"
   ]
  },
  {
   "cell_type": "code",
   "execution_count": 204,
   "id": "ff0ee5ec",
   "metadata": {},
   "outputs": [],
   "source": [
    "# после просмотра значений, заменим специальный символ на пробел\n",
    "df['keyword'] = df['keyword'].str.replace('%20', ' ')"
   ]
  },
  {
   "cell_type": "code",
   "execution_count": 205,
   "id": "0a2bdcc0",
   "metadata": {},
   "outputs": [],
   "source": [
    "# создадим вектор признаков\n",
    "df = pd.get_dummies(df, columns=['keyword'], drop_first=True)"
   ]
  },
  {
   "cell_type": "markdown",
   "id": "6c939347",
   "metadata": {},
   "source": [
    "## Text to vector"
   ]
  },
  {
   "cell_type": "markdown",
   "id": "9be1dd61",
   "metadata": {},
   "source": [
    "Преобразуем значение поля `text` в вектор и для этого используем `transformers`"
   ]
  },
  {
   "cell_type": "code",
   "execution_count": 206,
   "id": "12043989",
   "metadata": {},
   "outputs": [
    {
     "data": {
      "text/plain": [
       "device(type='cpu')"
      ]
     },
     "execution_count": 206,
     "metadata": {},
     "output_type": "execute_result"
    }
   ],
   "source": [
    "device = torch.device(\"cuda\" if torch.cuda.is_available() else \"cpu\")\n",
    "\n",
    "device"
   ]
  },
  {
   "cell_type": "code",
   "execution_count": 207,
   "id": "e6a2f0a6",
   "metadata": {},
   "outputs": [],
   "source": [
    "tokenizer = AutoTokenizer.from_pretrained('distilbert-base-uncased')\n",
    "model = AutoModel.from_pretrained('distilbert-base-uncased')"
   ]
  },
  {
   "cell_type": "code",
   "execution_count": 208,
   "id": "8e0e1d44",
   "metadata": {},
   "outputs": [],
   "source": [
    "#Mean Pooling - Take attention mask into account for correct averaging\n",
    "def mean_pooling(model_output, attention_mask):\n",
    "    token_embeddings = model_output[0] #First element of model_output contains all token embeddings\n",
    "    input_mask_expanded = attention_mask.unsqueeze(-1).expand(token_embeddings.size()).float()\n",
    "    sum_embeddings = torch.sum(token_embeddings * input_mask_expanded, 1)\n",
    "    sum_mask = torch.clamp(input_mask_expanded.sum(1), min=1e-9)\n",
    "    return sum_embeddings / sum_mask\n",
    "\n",
    "def text2vector(sentences):\n",
    "    #Tokenize sentences\n",
    "    encoded_input = tokenizer(sentences, padding=True, truncation=True, max_length=128, return_tensors='pt').to(device)\n",
    "\n",
    "    #Compute token embeddings\n",
    "    with torch.no_grad():\n",
    "        model_output = model(**encoded_input)\n",
    "\n",
    "    #Perform pooling. In this case, mean pooling\n",
    "    sentence_embeddings = mean_pooling(model_output, encoded_input['attention_mask'])\n",
    "\n",
    "    pbar.update(1)\n",
    "    ar = sentence_embeddings[0].to('cpu').detach().numpy()\n",
    "    return ar"
   ]
  },
  {
   "cell_type": "code",
   "execution_count": 209,
   "id": "bf249938",
   "metadata": {},
   "outputs": [],
   "source": [
    "# если в во временной папки нет векторов, то создадим его\n",
    "if os.path.exists(DIR + '/text_vectors.pickle'):\n",
    "    text_vectors = pickle.load(open(DIR + '/text_vectors.pickle', 'rb'))\n",
    "    df['text_vector'] = text_vectors\n",
    "else:\n",
    "    with tqdm(total=df.shape[0]) as pbar:\n",
    "        df['text_vector'] = df['text'].apply(lambda x: text2vector(x))\n",
    "\n",
    "    pickle.dump(df['text_vector'], file = open(DIR + '/text_vectors.pickle', 'wb'))"
   ]
  },
  {
   "cell_type": "markdown",
   "id": "78b3b92f",
   "metadata": {},
   "source": [
    "## Location & Keyword to vector"
   ]
  },
  {
   "cell_type": "markdown",
   "id": "dc3136b1",
   "metadata": {},
   "source": [
    "Объеденим вектор `location` и `keyword`"
   ]
  },
  {
   "cell_type": "code",
   "execution_count": 210,
   "id": "08fe1579",
   "metadata": {},
   "outputs": [],
   "source": [
    "# создание вектора\n",
    "df['feature_vector'] = df.drop(columns=['text_vector', \n",
    "                                        'text', \n",
    "                                        'location', \n",
    "                                        'target', \n",
    "                                        'location_word_count']) \\\n",
    "                        .apply(lambda x: x.values, axis=1)"
   ]
  },
  {
   "cell_type": "markdown",
   "id": "ced6f714",
   "metadata": {},
   "source": [
    "Объеденим два вектора `feature_vector` и `text_vector`"
   ]
  },
  {
   "cell_type": "code",
   "execution_count": 211,
   "id": "f735a394",
   "metadata": {},
   "outputs": [],
   "source": [
    "def join_vectors(row):\n",
    "    \"\"\"\n",
    "    Объединяем два вектора\n",
    "\n",
    "    Параметры:\n",
    "    ----------\n",
    "    row: Serias\n",
    "\n",
    "    Результаты:\n",
    "    numpy.ndarray - объдинённый вектор\n",
    "    \"\"\"\n",
    "\n",
    "    return np.concatenate((row['feature_vector'], row['text_vector']))\n",
    "\n",
    "df['finish_vector'] = df.apply(join_vectors, axis=1)"
   ]
  },
  {
   "cell_type": "code",
   "execution_count": 212,
   "id": "1871456d",
   "metadata": {},
   "outputs": [
    {
     "name": "stdout",
     "output_type": "stream",
     "text": [
      "Длина итогового вектора равна 225 + 768 = 993\n"
     ]
    }
   ],
   "source": [
    "print(f'Длина итогового вектора равна {df.iloc[0][\"feature_vector\"].shape[0]} + {df.iloc[0][\"text_vector\"].shape[0]} = {len(df.iloc[0][\"finish_vector\"])}')"
   ]
  },
  {
   "cell_type": "markdown",
   "id": "393b9960",
   "metadata": {},
   "source": [
    "## Обучение"
   ]
  },
  {
   "cell_type": "code",
   "execution_count": 213,
   "id": "2917382f",
   "metadata": {},
   "outputs": [],
   "source": [
    "# определим дополнительные переменные\n",
    "RANDOM_STATE=12345\n",
    "N_JOBS = 4\n",
    "CV = 5"
   ]
  },
  {
   "cell_type": "code",
   "execution_count": 214,
   "id": "73e2d8fe",
   "metadata": {},
   "outputs": [],
   "source": [
    "# вектор\n",
    "features = df['finish_vector']\n",
    "# целевой признак\n",
    "target = df['target']"
   ]
  },
  {
   "cell_type": "code",
   "execution_count": 215,
   "id": "dfe4a4f7",
   "metadata": {},
   "outputs": [
    {
     "name": "stdout",
     "output_type": "stream",
     "text": [
      "Обучающая выборка: 5709\n",
      "Валидационная выборка: 1904\n"
     ]
    }
   ],
   "source": [
    "features_train, features_valid, target_train, target_valid = train_test_split(features, target, test_size=0.25, random_state=RANDOM_STATE, shuffle=True, stratify=target)\n",
    "\n",
    "#features_train, features_test, target_train, target_test = train_test_split(features_train, target_train, test_size=0.25, random_state=RANDOM_STATE, shuffle=True, stratify=target_train)\n",
    "\n",
    "print(f'Обучающая выборка:', features_train.shape[0])\n",
    "#print(f'Тестовая выборка:', features_test.shape[0])\n",
    "print(f'Валидационная выборка:', features_valid.shape[0])"
   ]
  },
  {
   "cell_type": "markdown",
   "id": "f56ff7ef",
   "metadata": {},
   "source": [
    "Так как все признаки у нас являются числовыми, приведём их к одному распределению (нормализуем)"
   ]
  },
  {
   "cell_type": "code",
   "execution_count": 216,
   "id": "6c87d5d8",
   "metadata": {},
   "outputs": [
    {
     "data": {
      "text/plain": [
       "993"
      ]
     },
     "execution_count": 216,
     "metadata": {},
     "output_type": "execute_result"
    }
   ],
   "source": [
    "len(features_train.iloc[0])"
   ]
  },
  {
   "cell_type": "code",
   "execution_count": 217,
   "id": "e093f388",
   "metadata": {},
   "outputs": [],
   "source": [
    "scaler = StandardScaler()\n",
    "\n",
    "features_train = scaler.fit_transform(features_train.tolist())\n",
    "features_valid = scaler.transform(features_valid.tolist())\n",
    "#features_test = scaler.transform(features_test.tolist())"
   ]
  },
  {
   "cell_type": "code",
   "execution_count": 218,
   "id": "bf1b5e34",
   "metadata": {},
   "outputs": [
    {
     "data": {
      "image/png": "[encoded data removed]",
      "text/plain": [
       "<Figure size 432x288 with 1 Axes>"
      ]
     },
     "metadata": {
      "needs_background": "light"
     },
     "output_type": "display_data"
    }
   ],
   "source": [
    "plt.hist(features_train[0], bins=100)\n",
    "\n",
    "plt.title('Распределение')\n",
    "plt.show()"
   ]
  },
  {
   "cell_type": "markdown",
   "id": "7a15e1e4",
   "metadata": {},
   "source": [
    "Обучим несколько моделей:\n",
    "* LogisticRegression - baseline\n",
    "* RandomForestClassifier\n",
    "* CatBoost\n",
    "* Нейронная сеть"
   ]
  },
  {
   "cell_type": "code",
   "execution_count": 219,
   "id": "ee44f503",
   "metadata": {},
   "outputs": [],
   "source": [
    "scores = []"
   ]
  },
  {
   "cell_type": "code",
   "execution_count": 220,
   "id": "2da6cb17",
   "metadata": {},
   "outputs": [],
   "source": [
    "def score_info(model_name, score):\n",
    "    \"\"\"\n",
    "    Вспомогательная функция для вывода качества метрики\n",
    "    \n",
    "    Параметры:\n",
    "    ----------\n",
    "    model_name: string - имя модели\n",
    "    score: float - показатель метрики\n",
    "    \"\"\"\n",
    "    scores.append([model_name, score])\n",
    "    \n",
    "    print()\n",
    "    print(f'Качество метрики F1 для {model_name} = {round(abs(score), 3)}')"
   ]
  },
  {
   "cell_type": "markdown",
   "id": "9b149e39",
   "metadata": {},
   "source": [
    "### LogisticRegression - baseline"
   ]
  },
  {
   "cell_type": "code",
   "execution_count": 221,
   "id": "d4369572",
   "metadata": {},
   "outputs": [
    {
     "name": "stdout",
     "output_type": "stream",
     "text": [
      "{'max_iter': 200, 'penalty': 'l2'}\n",
      "\n",
      "Качество метрики F1 для LogisticRegression = 0.747\n",
      "CPU times: total: 0 ns\n",
      "Wall time: 1 ms\n"
     ]
    }
   ],
   "source": [
    "%%time\n",
    "\n",
    "lr_model = None\n",
    "lr_gs = None\n",
    "\n",
    "# используем кэш\n",
    "if os.path.exists(DIR + '/lr_gs.pickle'):\n",
    "    lr_gs = pickle.load(open(DIR + '/lr_gs.pickle', 'rb'))\n",
    "    \n",
    "    lr_model = lr_gs.best_estimator_\n",
    "else:\n",
    "    \n",
    "    params = {\n",
    "        'penalty': ['l2'],\n",
    "        'max_iter': [100, 200, 300]\n",
    "    }\n",
    "\n",
    "    lr_gs = GridSearchCV(estimator=LogisticRegression(random_state=RANDOM_STATE, n_jobs=N_JOBS), param_grid=params, cv=CV, scoring='f1', verbose=3)\n",
    "    lr_gs.fit(features_train, target_train)\n",
    "    lr_model = lr_gs.best_estimator_\n",
    "    \n",
    "    pickle.dump(lr_gs, file = open(DIR + '/lr_gs.pickle', 'wb'))\n",
    "\n",
    "print(lr_gs.best_params_)\n",
    "\n",
    "score_info('LogisticRegression', lr_gs.best_score_)"
   ]
  },
  {
   "cell_type": "markdown",
   "id": "d8f6fda0",
   "metadata": {},
   "source": [
    "### RandomForestClassifier"
   ]
  },
  {
   "cell_type": "code",
   "execution_count": 222,
   "id": "482cf873",
   "metadata": {},
   "outputs": [
    {
     "name": "stdout",
     "output_type": "stream",
     "text": [
      "{'max_depth': 26, 'n_estimators': 36}\n",
      "\n",
      "Качество метрики F1 для RandomForestClassifier = 0.735\n",
      "CPU times: total: 15.6 ms\n",
      "Wall time: 6 ms\n"
     ]
    }
   ],
   "source": [
    "%%time\n",
    "\n",
    "rf_model = None\n",
    "rf_gs = None\n",
    "\n",
    "# используем кэш\n",
    "if os.path.exists(DIR + '/rf_gs.pickle'):\n",
    "    rf_gs = pickle.load(open(DIR + '/rf_gs.pickle', 'rb'))\n",
    "    \n",
    "    rf_model = rf_gs.best_estimator_\n",
    "else:\n",
    "    params = {\n",
    "        \"n_estimators\": range(1, 41, 5),\n",
    "        \"max_depth\": range(1, 41, 5)\n",
    "    }\n",
    "    rf_gs = GridSearchCV(estimator=RandomForestClassifier (random_state=RANDOM_STATE, n_jobs=N_JOBS), param_grid=params, cv=CV, scoring='f1', verbose=3)\n",
    "    rf_gs.fit(features_train, target_train)\n",
    "    rf_model = rf_gs.best_estimator_\n",
    "    \n",
    "    pickle.dump(rf_gs, file = open(DIR + '/rf_gs.pickle', 'wb'))\n",
    "\n",
    "print(rf_gs.best_params_)\n",
    "score_info('RandomForestClassifier', rf_gs.best_score_)"
   ]
  },
  {
   "cell_type": "markdown",
   "id": "99a4c265",
   "metadata": {},
   "source": [
    "### CatBoostClassifier"
   ]
  },
  {
   "cell_type": "code",
   "execution_count": 223,
   "id": "eaca0888",
   "metadata": {
    "scrolled": false
   },
   "outputs": [
    {
     "name": "stdout",
     "output_type": "stream",
     "text": [
      "{'depth': 8, 'iterations': 1000, 'learning_rate': 0.1}\n",
      "\n",
      "Качество метрики F1 для CatBoostClassifier = 0.77\n",
      "CPU times: total: 31.2 ms\n",
      "Wall time: 7 ms\n"
     ]
    }
   ],
   "source": [
    "%%time\n",
    "\n",
    "cb_model = None\n",
    "cb_gs = None\n",
    "\n",
    "# используем кэш\n",
    "if os.path.exists(DIR + '/cb_gs.pickle'):\n",
    "    cb_gs = pickle.load(open(DIR + '/cb_gs.pickle', 'rb'))\n",
    "    \n",
    "    cb_model = cb_gs.best_estimator_\n",
    "else:\n",
    "    params = {\n",
    "        'iterations': [300, 600, 1000],\n",
    "        'learning_rate': [0.03, 0.1],\n",
    "        'depth': [2, 4, 6, 8]\n",
    "    }\n",
    "\n",
    "    cb_gs = GridSearchCV(estimator=CatBoostClassifier(random_state=RANDOM_STATE, loss_function=\"Logloss\", eval_metric='F1', logging_level='Silent'), param_grid=params, cv=CV, scoring='f1', verbose=3)\n",
    "    cb_gs.fit(features_train, target_train)\n",
    "    cb_model = cb_gs.best_estimator_\n",
    "    \n",
    "    pickle.dump(cb_gs, file = open(DIR + '/cb_gs.pickle', 'wb'))\n",
    "\n",
    "print(cb_gs.best_params_)\n",
    "score_info('CatBoostClassifier', cb_gs.best_score_)"
   ]
  },
  {
   "cell_type": "markdown",
   "id": "358eb415",
   "metadata": {},
   "source": [
    "### Нейронная сеть"
   ]
  },
  {
   "cell_type": "code",
   "execution_count": 224,
   "id": "4bb137cc",
   "metadata": {},
   "outputs": [],
   "source": [
    "features_train, features_test, target_train, target_test = train_test_split(features_train, target_train, test_size=0.25, random_state=RANDOM_STATE, shuffle=True, stratify=target_train)"
   ]
  },
  {
   "cell_type": "code",
   "execution_count": 225,
   "id": "010c0bf5",
   "metadata": {},
   "outputs": [],
   "source": [
    "features_train = torch.FloatTensor(features_train.tolist())\n",
    "features_test = torch.FloatTensor(features_test.tolist())\n",
    "\n",
    "target_train = torch.FloatTensor(target_train.values).reshape(-1, 1)\n",
    "target_test = torch.FloatTensor(target_test.values).reshape(-1, 1)"
   ]
  },
  {
   "cell_type": "code",
   "execution_count": 226,
   "id": "f2701331",
   "metadata": {},
   "outputs": [
    {
     "name": "stdout",
     "output_type": "stream",
     "text": [
      "Feature batch shape: torch.Size([32, 993])\n",
      "Labels batch shape: torch.Size([32, 1])\n"
     ]
    }
   ],
   "source": [
    "# создание датасета\n",
    "class CustomDataset(Dataset):\n",
    "    def __init__(self, features, target):\n",
    "        self.features = features\n",
    "        self.target = target\n",
    "\n",
    "    def __len__(self):\n",
    "        return len(self.features)\n",
    "\n",
    "    def __getitem__(self, idx):\n",
    "        return self.features[idx], self.target[idx]\n",
    "\n",
    "# создадим DataLoader\n",
    "train_dataset = CustomDataset(features_train, target_train)\n",
    "train_dataloader = DataLoader(train_dataset, batch_size=32, shuffle=True)\n",
    "\n",
    "test_dataset = CustomDataset(features_test, target_test)\n",
    "test_dataloader = DataLoader(test_dataset, batch_size=32, shuffle=True)\n",
    "\n",
    "# проверим работу\n",
    "train_features, train_labels = next(iter(train_dataloader))\n",
    "\n",
    "print(f\"Feature batch shape: {train_features.size()}\")\n",
    "print(f\"Labels batch shape: {train_labels.size()}\")"
   ]
  },
  {
   "cell_type": "code",
   "execution_count": 227,
   "id": "f6411aee",
   "metadata": {},
   "outputs": [],
   "source": [
    "INPUT_NEURONS=len(df.iloc[0][\"finish_vector\"])"
   ]
  },
  {
   "cell_type": "code",
   "execution_count": 228,
   "id": "ad8a6af7",
   "metadata": {},
   "outputs": [],
   "source": [
    "def f1_score(y_true, y_pred, eps=1e-8):\n",
    "    assert y_true.size() == y_pred.size(), \"Input tensors should have the same size\"\n",
    "\n",
    "    # Convert the predicted probabilities to binary predictions\n",
    "    y_pred_binary = torch.round(y_pred)\n",
    "\n",
    "    # Calculate True Positives, False Positives, and False Negatives\n",
    "    tp = torch.sum(y_true * y_pred_binary)\n",
    "    fp = torch.sum((1 - y_true) * y_pred_binary)\n",
    "    fn = torch.sum(y_true * (1 - y_pred_binary))\n",
    "\n",
    "    # Calculate Precision and Recall\n",
    "    precision = tp / (tp + fp + eps)\n",
    "    recall = tp / (tp + fn + eps)\n",
    "\n",
    "    # Calculate F1 Score\n",
    "    f1 = 2 * precision * recall / (precision + recall + eps)\n",
    "\n",
    "    return f1.item()"
   ]
  },
  {
   "cell_type": "code",
   "execution_count": 229,
   "id": "89448364",
   "metadata": {},
   "outputs": [],
   "source": [
    "class Net(nn.Module):\n",
    "    def __init__(self):\n",
    "        super(Net, self).__init__()\n",
    "        self.fc1 = nn.Linear(INPUT_NEURONS, INPUT_NEURONS)\n",
    "        self.fc2 = nn.Linear(INPUT_NEURONS, 512)\n",
    "        self.fc3 = nn.Linear(512, 512)\n",
    "        self.fc4 = nn.Linear(512, 512)\n",
    "        self.fc5 = nn.Linear(512, 128)\n",
    "        self.fc6 = nn.Linear(128, 1)\n",
    "\n",
    "        self.dp = nn.Dropout(p=0.2)\n",
    "        self.relu = nn.LeakyReLU()\n",
    "        self.sigm = nn.Sigmoid()\n",
    "\n",
    "    def forward(self, x):\n",
    "        x = self.fc1(x)\n",
    "        x = self.relu(x)\n",
    "        x = self.dp(x)\n",
    "\n",
    "        x = self.fc2(x)\n",
    "        x = self.relu(x)\n",
    "        x = self.dp(x)\n",
    "\n",
    "        x = self.fc3(x)\n",
    "        x = self.relu(x)\n",
    "        x = self.dp(x)\n",
    "\n",
    "        x = self.fc4(x)\n",
    "        x = self.relu(x)\n",
    "        x = self.dp(x)\n",
    "\n",
    "        x = self.fc5(x)\n",
    "        x = self.relu(x)\n",
    "        x = self.dp(x)\n",
    "\n",
    "        x = self.fc6(x)\n",
    "\n",
    "        return self.sigm(x)"
   ]
  },
  {
   "cell_type": "code",
   "execution_count": 230,
   "id": "f62a3e01",
   "metadata": {},
   "outputs": [],
   "source": [
    "models = Net()\n",
    "models.to(device)\n",
    "\n",
    "criterion = torch.nn.BCELoss()\n",
    "optimizer = torch.optim.Adam(models.parameters(), lr=5e-6)\n",
    "\n",
    "epochs = 50\n",
    "nn_valid_loss = np.inf\n",
    "nn_f1_score = 0.0"
   ]
  },
  {
   "cell_type": "code",
   "execution_count": 231,
   "id": "2479bc03",
   "metadata": {},
   "outputs": [
    {
     "name": "stdout",
     "output_type": "stream",
     "text": [
      "Epoch 1 \t Training Loss: 0.6911667572028601 \t Validation Loss: 0.6881577730178833 \t F1: 0.0\n",
      "Epoch 11 \t Training Loss: 0.3956431328360714 \t Validation Loss: 0.42071667114893596 \t F1: 0.7522106885910034\n",
      "Epoch 21 \t Training Loss: 0.3143804655479851 \t Validation Loss: 0.4074239093396399 \t F1: 0.7726165658897823\n",
      "Epoch 31 \t Training Loss: 0.2559597501114233 \t Validation Loss: 0.42416863573922053 \t F1: 0.7792592022154067\n",
      "Epoch 41 \t Training Loss: 0.2006947077921967 \t Validation Loss: 0.4799296822812822 \t F1: 0.7691150373882718\n",
      "\n",
      "Качество метрики F1 для Net = 0.773\n",
      "CPU times: total: 6min 58s\n",
      "Wall time: 1min 52s\n"
     ]
    }
   ],
   "source": [
    "%%time\n",
    "\n",
    "# используем кэш\n",
    "if not os.path.exists(DIR + '/nw_model.pickle'):\n",
    "    # фиксируем state\n",
    "    np.random.seed(RANDOM_STATE)\n",
    "    random.seed(RANDOM_STATE)\n",
    "    torch.manual_seed(RANDOM_STATE)\n",
    "    torch.cuda.manual_seed(RANDOM_STATE)\n",
    "\n",
    "    for e in range(epochs):\n",
    "        train_loss = 0.0\n",
    "        f1_loss = 0.0\n",
    "\n",
    "        models.train()     # Optional when not using Model Specific layer\n",
    "        for data, labels in train_dataloader:\n",
    "            data, labels = data.to(device), labels.to(device)\n",
    "\n",
    "            optimizer.zero_grad()\n",
    "            target = models(data)\n",
    "\n",
    "            loss = criterion(target, labels)\n",
    "            loss.backward()\n",
    "            optimizer.step()\n",
    "            train_loss += loss.item()\n",
    "\n",
    "        valid_loss = 0.0\n",
    "        models.eval()     # Optional when not using Model Specific layer\n",
    "\n",
    "        for data, labels in test_dataloader:\n",
    "            data, labels = data.to(device), labels.to(device)\n",
    "\n",
    "            target = models(data)\n",
    "            loss = criterion(target, labels)\n",
    "            f1_loss += f1_score(labels, target)\n",
    "            valid_loss += loss.item()\n",
    "\n",
    "        if e % 10 == 0:\n",
    "            score = valid_loss / len(test_dataloader)\n",
    "            f1 = f1_loss / len(test_dataloader)\n",
    "\n",
    "            print(f'Epoch {e+1} \\t Training Loss: {train_loss / len(train_dataloader)} \\t Validation Loss: {score} \\t F1: {f1}')\n",
    "\n",
    "            if nn_valid_loss > score:\n",
    "                nn_valid_loss = score\n",
    "                nn_f1_score = f1\n",
    "                torch.save(models.state_dict(), DIR + '/nw_model.pickle')\n",
    "\n",
    "score_info('Net', nn_f1_score)"
   ]
  },
  {
   "cell_type": "markdown",
   "id": "e0145325",
   "metadata": {},
   "source": [
    "## Тестирование модели"
   ]
  },
  {
   "cell_type": "code",
   "execution_count": 232,
   "id": "9a794395",
   "metadata": {},
   "outputs": [
    {
     "name": "stdout",
     "output_type": "stream",
     "text": [
      "Результаты\n"
     ]
    },
    {
     "data": {
      "text/html": [
       "<div>\n",
       "<style scoped>\n",
       "    .dataframe tbody tr th:only-of-type {\n",
       "        vertical-align: middle;\n",
       "    }\n",
       "\n",
       "    .dataframe tbody tr th {\n",
       "        vertical-align: top;\n",
       "    }\n",
       "\n",
       "    .dataframe thead th {\n",
       "        text-align: right;\n",
       "    }\n",
       "</style>\n",
       "<table border=\"1\" class=\"dataframe\">\n",
       "  <thead>\n",
       "    <tr style=\"text-align: right;\">\n",
       "      <th></th>\n",
       "      <th>Модель</th>\n",
       "      <th>F1</th>\n",
       "    </tr>\n",
       "  </thead>\n",
       "  <tbody>\n",
       "    <tr>\n",
       "      <th>0</th>\n",
       "      <td>LogisticRegression</td>\n",
       "      <td>0.747396</td>\n",
       "    </tr>\n",
       "    <tr>\n",
       "      <th>1</th>\n",
       "      <td>RandomForestClassifier</td>\n",
       "      <td>0.734997</td>\n",
       "    </tr>\n",
       "    <tr>\n",
       "      <th>2</th>\n",
       "      <td>CatBoostClassifier</td>\n",
       "      <td>0.769766</td>\n",
       "    </tr>\n",
       "    <tr>\n",
       "      <th>3</th>\n",
       "      <td>Net</td>\n",
       "      <td>0.772617</td>\n",
       "    </tr>\n",
       "  </tbody>\n",
       "</table>\n",
       "</div>"
      ],
      "text/plain": [
       "                   Модель        F1\n",
       "0      LogisticRegression  0.747396\n",
       "1  RandomForestClassifier  0.734997\n",
       "2      CatBoostClassifier  0.769766\n",
       "3                     Net  0.772617"
      ]
     },
     "metadata": {},
     "output_type": "display_data"
    }
   ],
   "source": [
    "mdf = pd.DataFrame(data=scores, columns=['Модель', 'F1'])\n",
    "print('Результаты')\n",
    "display(mdf)"
   ]
  },
  {
   "cell_type": "code",
   "execution_count": 234,
   "id": "3d1f722b",
   "metadata": {},
   "outputs": [
    {
     "data": {
      "text/plain": [
       "Net(\n",
       "  (fc1): Linear(in_features=993, out_features=993, bias=True)\n",
       "  (fc2): Linear(in_features=993, out_features=512, bias=True)\n",
       "  (fc3): Linear(in_features=512, out_features=512, bias=True)\n",
       "  (fc4): Linear(in_features=512, out_features=512, bias=True)\n",
       "  (fc5): Linear(in_features=512, out_features=128, bias=True)\n",
       "  (fc6): Linear(in_features=128, out_features=1, bias=True)\n",
       "  (dp): Dropout(p=0.2, inplace=False)\n",
       "  (relu): LeakyReLU(negative_slope=0.01)\n",
       "  (sigm): Sigmoid()\n",
       ")"
      ]
     },
     "execution_count": 234,
     "metadata": {},
     "output_type": "execute_result"
    }
   ],
   "source": [
    "# загрузим модель\n",
    "models = Net()\n",
    "models.to(device)\n",
    "\n",
    "models.load_state_dict(torch.load(DIR + '/nw_model.pickle'))\n",
    "models.eval()"
   ]
  },
  {
   "cell_type": "code",
   "execution_count": 235,
   "id": "993f7799",
   "metadata": {},
   "outputs": [
    {
     "name": "stdout",
     "output_type": "stream",
     "text": [
      "<class 'pandas.core.frame.DataFrame'>\n",
      "Int64Index: 3263 entries, 0 to 10875\n",
      "Data columns (total 3 columns):\n",
      " #   Column    Non-Null Count  Dtype \n",
      "---  ------    --------------  ----- \n",
      " 0   keyword   3237 non-null   object\n",
      " 1   location  2158 non-null   object\n",
      " 2   text      3263 non-null   object\n",
      "dtypes: object(3)\n",
      "memory usage: 102.0+ KB\n"
     ]
    }
   ],
   "source": [
    "df_test = pd.read_csv(DIR + '/test.csv')\n",
    "df_test.set_index('id', inplace=True)\n",
    "\n",
    "df_test.info()"
   ]
  },
  {
   "cell_type": "code",
   "execution_count": 236,
   "id": "77955c6b",
   "metadata": {},
   "outputs": [],
   "source": [
    "# выполним обработку данных\n",
    "\n",
    "# заполним пропуски\n",
    "df_test['location'] = df_test['location'].fillna('unknown')\n",
    "\n",
    "# новый целевой признак, содержится ли в подстроке location упоминание о стране\n",
    "df_test['isCountry'] = df_test['location'].apply(is_country)\n",
    "\n",
    "# новый целевой признак, содержится ли в подстроке location упоминание о городе\n",
    "df_test['isCity'] = df_test['location'].apply(is_city)\n",
    "\n",
    "# обработаем остальные значения\n",
    "df_test['isUnknown'] = df_test['location'] == 'unknown'\n",
    "df_test['isUnknown'] = df_test['isUnknown'].map({ True: 1, False: 0 })\n",
    "\n",
    "df_test['isOther'] = (df_test['isCity'] == False) & (df_test['isCountry'] == False) & (df_test['isUnknown'] == False)\n",
    "df_test['isOther'] = df_test['isOther'].map({ True: 1, False: 0 })"
   ]
  },
  {
   "cell_type": "code",
   "execution_count": 237,
   "id": "68f9c7d1",
   "metadata": {},
   "outputs": [],
   "source": [
    "df_test['keyword'] = df_test['keyword'].fillna('unknown')\n",
    "\n",
    "# создадим вектор признаков\n",
    "df_test = pd.get_dummies(df_test, columns=['keyword'], drop_first=True)"
   ]
  },
  {
   "cell_type": "code",
   "execution_count": 238,
   "id": "7675f587",
   "metadata": {},
   "outputs": [
    {
     "name": "stderr",
     "output_type": "stream",
     "text": [
      "100%|██████████████████████████████████████████████████████████████████████████████| 3263/3263 [02:00<00:00, 27.14it/s]\n"
     ]
    }
   ],
   "source": [
    "with tqdm(total=df_test.shape[0]) as pbar:\n",
    "    df_test['text_vector'] = df_test['text'].apply(lambda x: text2vector(x))"
   ]
  },
  {
   "cell_type": "code",
   "execution_count": 239,
   "id": "59926799",
   "metadata": {},
   "outputs": [],
   "source": [
    "# создание вектора\n",
    "df_test['feature_vector'] = df_test.drop(columns=['text_vector', \n",
    "                                        'text', \n",
    "                                        'location']) \\\n",
    "                            .apply(lambda x: x.values, axis=1)\n",
    "\n",
    "df_test['finish_vector'] = df_test.apply(join_vectors, axis=1)"
   ]
  },
  {
   "cell_type": "code",
   "execution_count": 240,
   "id": "7b6e2ab1",
   "metadata": {},
   "outputs": [],
   "source": [
    "# вектор\n",
    "features = df_test['finish_vector']"
   ]
  },
  {
   "cell_type": "code",
   "execution_count": 241,
   "id": "77f6ff53",
   "metadata": {},
   "outputs": [
    {
     "data": {
      "text/plain": [
       "993"
      ]
     },
     "execution_count": 241,
     "metadata": {},
     "output_type": "execute_result"
    }
   ],
   "source": [
    "len(features.iloc[0])"
   ]
  },
  {
   "cell_type": "code",
   "execution_count": 243,
   "id": "996f6fd7",
   "metadata": {},
   "outputs": [],
   "source": [
    "features_scaler = scaler.transform(features.tolist())\n",
    "features_train = torch.FloatTensor(features_scaler.tolist())"
   ]
  },
  {
   "cell_type": "code",
   "execution_count": 248,
   "id": "84eed0ac",
   "metadata": {},
   "outputs": [],
   "source": [
    "with torch.no_grad():\n",
    "    pred = models(features_train.to(device)).to('cpu')"
   ]
  },
  {
   "cell_type": "code",
   "execution_count": 249,
   "id": "7fe596eb",
   "metadata": {},
   "outputs": [],
   "source": [
    "pred_binary = torch.round(pred)"
   ]
  },
  {
   "cell_type": "code",
   "execution_count": 254,
   "id": "91473a69",
   "metadata": {},
   "outputs": [],
   "source": [
    "df_test['target'] = pred_binary\n",
    "df_test['target'] = df_test['target'].astype(int)"
   ]
  },
  {
   "cell_type": "code",
   "execution_count": 255,
   "id": "53e651ed",
   "metadata": {},
   "outputs": [],
   "source": [
    "df_test['target'].to_csv('sample_submission.csv')"
   ]
  },
  {
   "cell_type": "code",
   "execution_count": null,
   "id": "1caae545",
   "metadata": {},
   "outputs": [],
   "source": []
  }
 ],
 "metadata": {
  "kernelspec": {
   "display_name": "Python 3 (ipykernel)",
   "language": "python",
   "name": "python3"
  },
  "language_info": {
   "codemirror_mode": {
    "name": "ipython",
    "version": 3
   },
   "file_extension": ".py",
   "mimetype": "text/x-python",
   "name": "python",
   "nbconvert_exporter": "python",
   "pygments_lexer": "ipython3",
   "version": "3.10.11"
  },
  "toc": {
   "base_numbering": 1,
   "nav_menu": {},
   "number_sections": false,
   "sideBar": true,
   "skip_h1_title": false,
   "title_cell": "Table of Contents",
   "title_sidebar": "Contents",
   "toc_cell": false,
   "toc_position": {},
   "toc_section_display": true,
   "toc_window_display": true
  }
 },
 "nbformat": 4,
 "nbformat_minor": 5
}

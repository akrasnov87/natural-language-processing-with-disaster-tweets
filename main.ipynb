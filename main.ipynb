{
 "cells": [
  {
   "cell_type": "markdown",
   "id": "a12ea0a6",
   "metadata": {},
   "source": [
    "# Natural Language Processing with Disaster Tweets"
   ]
  },
  {
   "cell_type": "markdown",
   "id": "5dca546b",
   "metadata": {},
   "source": [
    "## Description"
   ]
  },
  {
   "cell_type": "markdown",
   "id": "9fb56e40",
   "metadata": {},
   "source": [
    "In this competition, it is required to create a machine learning model that predicts which tweets are dedicated to real disasters and which are not."
   ]
  },
  {
   "cell_type": "markdown",
   "id": "815d97da",
   "metadata": {},
   "source": [
    "## Loading data"
   ]
  },
  {
   "cell_type": "code",
   "execution_count": 121,
   "id": "bfdf4ff0",
   "metadata": {},
   "outputs": [],
   "source": [
    "!pip install pathlib==1.0.1 -q"
   ]
  },
  {
   "cell_type": "code",
   "execution_count": 122,
   "id": "b679ab9b",
   "metadata": {},
   "outputs": [],
   "source": [
    "import pandas as pd\n",
    "import numpy as np\n",
    "import matplotlib.pyplot as plt"
   ]
  },
  {
   "cell_type": "code",
   "execution_count": 123,
   "id": "54e8dcb2",
   "metadata": {},
   "outputs": [],
   "source": [
    "# define the variables\n",
    "DIR='./data'"
   ]
  },
  {
   "cell_type": "code",
   "execution_count": 124,
   "id": "99eba4a7",
   "metadata": {},
   "outputs": [
    {
     "name": "stdout",
     "output_type": "stream",
     "text": [
      "<class 'pandas.core.frame.DataFrame'>\n",
      "Int64Index: 7613 entries, 1 to 10873\n",
      "Data columns (total 4 columns):\n",
      " #   Column    Non-Null Count  Dtype \n",
      "---  ------    --------------  ----- \n",
      " 0   keyword   7552 non-null   object\n",
      " 1   location  5080 non-null   object\n",
      " 2   text      7613 non-null   object\n",
      " 3   target    7613 non-null   int64 \n",
      "dtypes: int64(1), object(3)\n",
      "memory usage: 297.4+ KB\n"
     ]
    },
    {
     "data": {
      "text/html": [
       "<div>\n",
       "<style scoped>\n",
       "    .dataframe tbody tr th:only-of-type {\n",
       "        vertical-align: middle;\n",
       "    }\n",
       "\n",
       "    .dataframe tbody tr th {\n",
       "        vertical-align: top;\n",
       "    }\n",
       "\n",
       "    .dataframe thead th {\n",
       "        text-align: right;\n",
       "    }\n",
       "</style>\n",
       "<table border=\"1\" class=\"dataframe\">\n",
       "  <thead>\n",
       "    <tr style=\"text-align: right;\">\n",
       "      <th></th>\n",
       "      <th>keyword</th>\n",
       "      <th>location</th>\n",
       "      <th>text</th>\n",
       "      <th>target</th>\n",
       "    </tr>\n",
       "    <tr>\n",
       "      <th>id</th>\n",
       "      <th></th>\n",
       "      <th></th>\n",
       "      <th></th>\n",
       "      <th></th>\n",
       "    </tr>\n",
       "  </thead>\n",
       "  <tbody>\n",
       "    <tr>\n",
       "      <th>1</th>\n",
       "      <td>NaN</td>\n",
       "      <td>NaN</td>\n",
       "      <td>Our Deeds are the Reason of this #earthquake M...</td>\n",
       "      <td>1</td>\n",
       "    </tr>\n",
       "    <tr>\n",
       "      <th>4</th>\n",
       "      <td>NaN</td>\n",
       "      <td>NaN</td>\n",
       "      <td>Forest fire near La Ronge Sask. Canada</td>\n",
       "      <td>1</td>\n",
       "    </tr>\n",
       "    <tr>\n",
       "      <th>5</th>\n",
       "      <td>NaN</td>\n",
       "      <td>NaN</td>\n",
       "      <td>All residents asked to 'shelter in place' are ...</td>\n",
       "      <td>1</td>\n",
       "    </tr>\n",
       "    <tr>\n",
       "      <th>6</th>\n",
       "      <td>NaN</td>\n",
       "      <td>NaN</td>\n",
       "      <td>13,000 people receive #wildfires evacuation or...</td>\n",
       "      <td>1</td>\n",
       "    </tr>\n",
       "    <tr>\n",
       "      <th>7</th>\n",
       "      <td>NaN</td>\n",
       "      <td>NaN</td>\n",
       "      <td>Just got sent this photo from Ruby #Alaska as ...</td>\n",
       "      <td>1</td>\n",
       "    </tr>\n",
       "  </tbody>\n",
       "</table>\n",
       "</div>"
      ],
      "text/plain": [
       "   keyword location                                               text  target\n",
       "id                                                                            \n",
       "1      NaN      NaN  Our Deeds are the Reason of this #earthquake M...       1\n",
       "4      NaN      NaN             Forest fire near La Ronge Sask. Canada       1\n",
       "5      NaN      NaN  All residents asked to 'shelter in place' are ...       1\n",
       "6      NaN      NaN  13,000 people receive #wildfires evacuation or...       1\n",
       "7      NaN      NaN  Just got sent this photo from Ruby #Alaska as ...       1"
      ]
     },
     "execution_count": 124,
     "metadata": {},
     "output_type": "execute_result"
    }
   ],
   "source": [
    "df = pd.read_csv(f'{DIR}/train.csv', index_col='id')\n",
    "\n",
    "df.info()\n",
    "\n",
    "df.head()"
   ]
  },
  {
   "cell_type": "code",
   "execution_count": 125,
   "id": "08e5e2ea",
   "metadata": {},
   "outputs": [
    {
     "data": {
      "image/png": "[encoded data removed]",
      "text/plain": [
       "<Figure size 432x288 with 1 Axes>"
      ]
     },
     "metadata": {
      "needs_background": "light"
     },
     "output_type": "display_data"
    }
   ],
   "source": [
    "#balance\n",
    "df['target'].value_counts().plot(kind='bar')\n",
    "plt.title('Target balance')\n",
    "plt.ylabel('count')\n",
    "plt.xlabel('target')\n",
    "plt.show()"
   ]
  },
  {
   "cell_type": "markdown",
   "id": "47504785",
   "metadata": {},
   "source": [
    "__Note__: no significant imbalance found"
   ]
  },
  {
   "cell_type": "markdown",
   "id": "f7bd373d",
   "metadata": {},
   "source": [
    "### Location"
   ]
  },
  {
   "cell_type": "code",
   "execution_count": 126,
   "id": "20116763",
   "metadata": {},
   "outputs": [],
   "source": [
    "from nltk.tokenize import word_tokenize\n",
    "from nltk.stem import WordNetLemmatizer"
   ]
  },
  {
   "cell_type": "code",
   "execution_count": 127,
   "id": "57abd465",
   "metadata": {},
   "outputs": [
    {
     "data": {
      "text/plain": [
       "3341"
      ]
     },
     "execution_count": 127,
     "metadata": {},
     "output_type": "execute_result"
    }
   ],
   "source": [
    "# let's check the uniqueness\n",
    "df['location'].nunique()"
   ]
  },
  {
   "cell_type": "code",
   "execution_count": 128,
   "id": "457f7a7d",
   "metadata": {},
   "outputs": [],
   "source": [
    "df['location'] = df['location'].fillna('unknown')"
   ]
  },
  {
   "cell_type": "code",
   "execution_count": 129,
   "id": "405865c6",
   "metadata": {},
   "outputs": [],
   "source": [
    "def get_word_count(txt):\n",
    "    \"\"\"\n",
    "    Calculating the number of words\n",
    "    \n",
    "    Inputs:\n",
    "    -----------\n",
    "    txt: string - input text\n",
    "    \n",
    "    Outputs:\n",
    "    --------\n",
    "    integer - word lengths\n",
    "    \"\"\"\n",
    "    txt = txt.lower()\n",
    "    word_tokens = word_tokenize(txt)\n",
    "    \n",
    "    return len(word_tokens)\n",
    "\n",
    "df['location_word_count'] = df['location'].apply(get_word_count)"
   ]
  },
  {
   "cell_type": "code",
   "execution_count": 130,
   "id": "b17c0ede",
   "metadata": {},
   "outputs": [
    {
     "data": {
      "image/png": "[encoded data removed]",
      "text/plain": [
       "<Figure size 432x288 with 1 Axes>"
      ]
     },
     "metadata": {
      "needs_background": "light"
     },
     "output_type": "display_data"
    }
   ],
   "source": [
    "dfc = df['location_word_count'].value_counts()\n",
    "dfc.sort_index(inplace=True)\n",
    "dfc.plot(kind='bar')\n",
    "plt.title('Word count')\n",
    "plt.ylabel('Count')\n",
    "plt.xlabel('')\n",
    "plt.show()"
   ]
  },
  {
   "cell_type": "markdown",
   "id": "fb9c6569",
   "metadata": {},
   "source": [
    "#### Loading intermediate data"
   ]
  },
  {
   "cell_type": "code",
   "execution_count": 131,
   "id": "fc1eb933",
   "metadata": {},
   "outputs": [
    {
     "data": {
      "text/html": [
       "<div>\n",
       "<style scoped>\n",
       "    .dataframe tbody tr th:only-of-type {\n",
       "        vertical-align: middle;\n",
       "    }\n",
       "\n",
       "    .dataframe tbody tr th {\n",
       "        vertical-align: top;\n",
       "    }\n",
       "\n",
       "    .dataframe thead th {\n",
       "        text-align: right;\n",
       "    }\n",
       "</style>\n",
       "<table border=\"1\" class=\"dataframe\">\n",
       "  <thead>\n",
       "    <tr style=\"text-align: right;\">\n",
       "      <th></th>\n",
       "      <th>Country</th>\n",
       "      <th>City</th>\n",
       "      <th>Name</th>\n",
       "      <th>Type</th>\n",
       "    </tr>\n",
       "  </thead>\n",
       "  <tbody>\n",
       "    <tr>\n",
       "      <th>0</th>\n",
       "      <td>AD</td>\n",
       "      <td>02</td>\n",
       "      <td>Canillo</td>\n",
       "      <td>Parish</td>\n",
       "    </tr>\n",
       "    <tr>\n",
       "      <th>1</th>\n",
       "      <td>AD</td>\n",
       "      <td>03</td>\n",
       "      <td>Encamp</td>\n",
       "      <td>Parish</td>\n",
       "    </tr>\n",
       "    <tr>\n",
       "      <th>2</th>\n",
       "      <td>AD</td>\n",
       "      <td>04</td>\n",
       "      <td>La Massana</td>\n",
       "      <td>Parish</td>\n",
       "    </tr>\n",
       "    <tr>\n",
       "      <th>3</th>\n",
       "      <td>AD</td>\n",
       "      <td>05</td>\n",
       "      <td>Ordino</td>\n",
       "      <td>Parish</td>\n",
       "    </tr>\n",
       "    <tr>\n",
       "      <th>4</th>\n",
       "      <td>AD</td>\n",
       "      <td>06</td>\n",
       "      <td>Sant Juliа de Lтria</td>\n",
       "      <td>Parish</td>\n",
       "    </tr>\n",
       "  </tbody>\n",
       "</table>\n",
       "</div>"
      ],
      "text/plain": [
       "  Country City                 Name    Type\n",
       "0      AD   02              Canillo  Parish\n",
       "1      AD   03               Encamp  Parish\n",
       "2      AD   04           La Massana  Parish\n",
       "3      AD   05               Ordino  Parish\n",
       "4      AD   06  Sant Juliа de Lтria  Parish"
      ]
     },
     "execution_count": 131,
     "metadata": {},
     "output_type": "execute_result"
    }
   ],
   "source": [
    "# https://unece.org/trade/cefact/UNLOCODE-Download\n",
    "division_code_df = pd.read_csv(f'{DIR}/2023-1 SubdivisionCodes.csv', names=['Country', 'City', 'Name', 'Type'])\n",
    "\n",
    "division_code_df.head()"
   ]
  },
  {
   "cell_type": "code",
   "execution_count": 132,
   "id": "01720523",
   "metadata": {},
   "outputs": [],
   "source": [
    "# get city names\n",
    "names = list(division_code_df['Name'].str.lower())"
   ]
  },
  {
   "cell_type": "code",
   "execution_count": 133,
   "id": "da7da71b",
   "metadata": {},
   "outputs": [
    {
     "data": {
      "text/html": [
       "<div>\n",
       "<style scoped>\n",
       "    .dataframe tbody tr th:only-of-type {\n",
       "        vertical-align: middle;\n",
       "    }\n",
       "\n",
       "    .dataframe tbody tr th {\n",
       "        vertical-align: top;\n",
       "    }\n",
       "\n",
       "    .dataframe thead th {\n",
       "        text-align: right;\n",
       "    }\n",
       "</style>\n",
       "<table border=\"1\" class=\"dataframe\">\n",
       "  <thead>\n",
       "    <tr style=\"text-align: right;\">\n",
       "      <th></th>\n",
       "      <th>Name</th>\n",
       "      <th>Code</th>\n",
       "    </tr>\n",
       "  </thead>\n",
       "  <tbody>\n",
       "    <tr>\n",
       "      <th>0</th>\n",
       "      <td>Afghanistan</td>\n",
       "      <td>AF</td>\n",
       "    </tr>\n",
       "    <tr>\n",
       "      <th>1</th>\n",
       "      <td>Åland Islands</td>\n",
       "      <td>AX</td>\n",
       "    </tr>\n",
       "    <tr>\n",
       "      <th>2</th>\n",
       "      <td>Albania</td>\n",
       "      <td>AL</td>\n",
       "    </tr>\n",
       "    <tr>\n",
       "      <th>3</th>\n",
       "      <td>Algeria</td>\n",
       "      <td>DZ</td>\n",
       "    </tr>\n",
       "    <tr>\n",
       "      <th>4</th>\n",
       "      <td>American Samoa</td>\n",
       "      <td>AS</td>\n",
       "    </tr>\n",
       "  </tbody>\n",
       "</table>\n",
       "</div>"
      ],
      "text/plain": [
       "             Name Code\n",
       "0     Afghanistan   AF\n",
       "1   Åland Islands   AX\n",
       "2         Albania   AL\n",
       "3         Algeria   DZ\n",
       "4  American Samoa   AS"
      ]
     },
     "execution_count": 133,
     "metadata": {},
     "output_type": "execute_result"
    }
   ],
   "source": [
    "country_df = pd.read_csv(f'{DIR}/country-list_data.csv')\n",
    "\n",
    "country_df.head()"
   ]
  },
  {
   "cell_type": "code",
   "execution_count": 134,
   "id": "26ddb9d6",
   "metadata": {},
   "outputs": [],
   "source": [
    "countries = list(country_df['Name'].str.lower())"
   ]
  },
  {
   "cell_type": "markdown",
   "id": "ca7df4e9",
   "metadata": {},
   "source": [
    "#### Preprocessing"
   ]
  },
  {
   "cell_type": "code",
   "execution_count": 135,
   "id": "ed0c6ba4",
   "metadata": {},
   "outputs": [],
   "source": [
    "def is_country(txt):\n",
    "    txt = txt.lower()\n",
    "    \n",
    "    for country in countries:\n",
    "        if country in txt:\n",
    "            return True\n",
    "    \n",
    "    return False\n",
    "\n",
    "df['isCountry'] = df['location'].apply(is_country)"
   ]
  },
  {
   "cell_type": "code",
   "execution_count": 136,
   "id": "ae9dc2d9",
   "metadata": {},
   "outputs": [],
   "source": [
    "def is_city(txt):\n",
    "    txt = txt.lower()\n",
    "    \n",
    "    for name in names:\n",
    "        if name in txt:\n",
    "            return True\n",
    "    \n",
    "    return False\n",
    "\n",
    "df['isCity'] = df['location'].apply(is_city)"
   ]
  },
  {
   "cell_type": "code",
   "execution_count": 137,
   "id": "29ed5234",
   "metadata": {},
   "outputs": [],
   "source": [
    "df['isUnknown'] = df['location'] == 'unknown'"
   ]
  },
  {
   "cell_type": "code",
   "execution_count": 138,
   "id": "0ae3fbd9",
   "metadata": {},
   "outputs": [],
   "source": [
    "df['isOther'] = (df['isCity'] == False) & (df['isCountry'] == False) & (df['isUnknown'] == False)"
   ]
  },
  {
   "cell_type": "markdown",
   "id": "d8a77d89",
   "metadata": {},
   "source": [
    "### Keyword"
   ]
  },
  {
   "cell_type": "code",
   "execution_count": 139,
   "id": "5843e211",
   "metadata": {},
   "outputs": [],
   "source": [
    "df['keyword'] = df['keyword'].fillna('unknown')"
   ]
  },
  {
   "cell_type": "code",
   "execution_count": 140,
   "id": "685ff117",
   "metadata": {},
   "outputs": [
    {
     "data": {
      "text/plain": [
       "222"
      ]
     },
     "execution_count": 140,
     "metadata": {},
     "output_type": "execute_result"
    }
   ],
   "source": [
    "df['keyword'].nunique()"
   ]
  },
  {
   "cell_type": "code",
   "execution_count": 141,
   "id": "ff0ee5ec",
   "metadata": {},
   "outputs": [],
   "source": [
    "\n",
    "df['keyword_word_count'] = df['keyword'].apply(lambda x: len(x.lower().split('%20')))"
   ]
  },
  {
   "cell_type": "code",
   "execution_count": 142,
   "id": "d615f76e",
   "metadata": {},
   "outputs": [
    {
     "data": {
      "image/png": "[encoded data removed]",
      "text/plain": [
       "<Figure size 432x288 with 1 Axes>"
      ]
     },
     "metadata": {
      "needs_background": "light"
     },
     "output_type": "display_data"
    }
   ],
   "source": [
    "dfc = df['keyword_word_count'].value_counts()\n",
    "dfc.sort_index(inplace=True)\n",
    "dfc.plot(kind='bar')\n",
    "plt.title('Word count')\n",
    "plt.ylabel('Count')\n",
    "plt.xlabel('')\n",
    "plt.show()"
   ]
  },
  {
   "cell_type": "code",
   "execution_count": 143,
   "id": "54d3b6d6",
   "metadata": {},
   "outputs": [
    {
     "data": {
      "text/html": [
       "<div>\n",
       "<style scoped>\n",
       "    .dataframe tbody tr th:only-of-type {\n",
       "        vertical-align: middle;\n",
       "    }\n",
       "\n",
       "    .dataframe tbody tr th {\n",
       "        vertical-align: top;\n",
       "    }\n",
       "\n",
       "    .dataframe thead th {\n",
       "        text-align: right;\n",
       "    }\n",
       "</style>\n",
       "<table border=\"1\" class=\"dataframe\">\n",
       "  <thead>\n",
       "    <tr style=\"text-align: right;\">\n",
       "      <th></th>\n",
       "      <th>keyword</th>\n",
       "      <th>location</th>\n",
       "      <th>text</th>\n",
       "      <th>target</th>\n",
       "      <th>location_word_count</th>\n",
       "      <th>isCountry</th>\n",
       "      <th>isCity</th>\n",
       "      <th>isUnknown</th>\n",
       "      <th>isOther</th>\n",
       "      <th>keyword_word_count</th>\n",
       "    </tr>\n",
       "    <tr>\n",
       "      <th>id</th>\n",
       "      <th></th>\n",
       "      <th></th>\n",
       "      <th></th>\n",
       "      <th></th>\n",
       "      <th></th>\n",
       "      <th></th>\n",
       "      <th></th>\n",
       "      <th></th>\n",
       "      <th></th>\n",
       "      <th></th>\n",
       "    </tr>\n",
       "  </thead>\n",
       "  <tbody>\n",
       "    <tr>\n",
       "      <th>1771</th>\n",
       "      <td>buildings%20on%20fire</td>\n",
       "      <td>World Wide</td>\n",
       "      <td>Fire hazard associated with installation of no...</td>\n",
       "      <td>1</td>\n",
       "      <td>2</td>\n",
       "      <td>False</td>\n",
       "      <td>False</td>\n",
       "      <td>False</td>\n",
       "      <td>True</td>\n",
       "      <td>3</td>\n",
       "    </tr>\n",
       "    <tr>\n",
       "      <th>1772</th>\n",
       "      <td>buildings%20on%20fire</td>\n",
       "      <td>Intermountain West</td>\n",
       "      <td>.@greenbuildermag @NFPA to hold free webinar o...</td>\n",
       "      <td>1</td>\n",
       "      <td>2</td>\n",
       "      <td>False</td>\n",
       "      <td>True</td>\n",
       "      <td>False</td>\n",
       "      <td>False</td>\n",
       "      <td>3</td>\n",
       "    </tr>\n",
       "    <tr>\n",
       "      <th>1773</th>\n",
       "      <td>buildings%20on%20fire</td>\n",
       "      <td>World Wide</td>\n",
       "      <td>Fire hazard associated with installation of no...</td>\n",
       "      <td>0</td>\n",
       "      <td>2</td>\n",
       "      <td>False</td>\n",
       "      <td>False</td>\n",
       "      <td>False</td>\n",
       "      <td>True</td>\n",
       "      <td>3</td>\n",
       "    </tr>\n",
       "    <tr>\n",
       "      <th>1774</th>\n",
       "      <td>buildings%20on%20fire</td>\n",
       "      <td>New Hampshire</td>\n",
       "      <td>Video:  Fire burns two apartment buildings and...</td>\n",
       "      <td>1</td>\n",
       "      <td>2</td>\n",
       "      <td>False</td>\n",
       "      <td>True</td>\n",
       "      <td>False</td>\n",
       "      <td>False</td>\n",
       "      <td>3</td>\n",
       "    </tr>\n",
       "    <tr>\n",
       "      <th>1775</th>\n",
       "      <td>buildings%20on%20fire</td>\n",
       "      <td>Manchester, NH</td>\n",
       "      <td>Fire destroys two buildings on 2nd Street in #...</td>\n",
       "      <td>1</td>\n",
       "      <td>3</td>\n",
       "      <td>False</td>\n",
       "      <td>True</td>\n",
       "      <td>False</td>\n",
       "      <td>False</td>\n",
       "      <td>3</td>\n",
       "    </tr>\n",
       "  </tbody>\n",
       "</table>\n",
       "</div>"
      ],
      "text/plain": [
       "                    keyword            location  \\\n",
       "id                                                \n",
       "1771  buildings%20on%20fire          World Wide   \n",
       "1772  buildings%20on%20fire  Intermountain West   \n",
       "1773  buildings%20on%20fire          World Wide   \n",
       "1774  buildings%20on%20fire       New Hampshire   \n",
       "1775  buildings%20on%20fire      Manchester, NH   \n",
       "\n",
       "                                                   text  target  \\\n",
       "id                                                                \n",
       "1771  Fire hazard associated with installation of no...       1   \n",
       "1772  .@greenbuildermag @NFPA to hold free webinar o...       1   \n",
       "1773  Fire hazard associated with installation of no...       0   \n",
       "1774  Video:  Fire burns two apartment buildings and...       1   \n",
       "1775  Fire destroys two buildings on 2nd Street in #...       1   \n",
       "\n",
       "      location_word_count  isCountry  isCity  isUnknown  isOther  \\\n",
       "id                                                                 \n",
       "1771                    2      False   False      False     True   \n",
       "1772                    2      False    True      False    False   \n",
       "1773                    2      False   False      False     True   \n",
       "1774                    2      False    True      False    False   \n",
       "1775                    3      False    True      False    False   \n",
       "\n",
       "      keyword_word_count  \n",
       "id                        \n",
       "1771                   3  \n",
       "1772                   3  \n",
       "1773                   3  \n",
       "1774                   3  \n",
       "1775                   3  "
      ]
     },
     "execution_count": 143,
     "metadata": {},
     "output_type": "execute_result"
    }
   ],
   "source": [
    "df[df['keyword_word_count'] > 2].head()"
   ]
  },
  {
   "cell_type": "code",
   "execution_count": 144,
   "id": "547b4183",
   "metadata": {},
   "outputs": [],
   "source": [
    "# get unique keywords\n",
    "keywords = []\n",
    "\n",
    "def iter_keyword(txt):\n",
    "    txt = txt.lower()\n",
    "    word_tokens = txt.split('%20')\n",
    "    \n",
    "    if len(word_tokens) == 3:\n",
    "        keywords.append(txt.replace('%20', ' '))\n",
    "    else:      \n",
    "        for word in word_tokens:\n",
    "            keywords.append(word)\n",
    "\n",
    "df['keyword'].apply(iter_keyword)\n",
    "\n",
    "keywords = list(set(keywords))"
   ]
  },
  {
   "cell_type": "code",
   "execution_count": 145,
   "id": "7e02a857",
   "metadata": {},
   "outputs": [],
   "source": [
    "df.loc[:, keywords] = np.zeros((len(keywords)), dtype=int)"
   ]
  },
  {
   "cell_type": "code",
   "execution_count": 146,
   "id": "07848425",
   "metadata": {},
   "outputs": [
    {
     "name": "stdout",
     "output_type": "stream",
     "text": [
      "<class 'pandas.core.frame.DataFrame'>\n",
      "Int64Index: 7613 entries, 1 to 10873\n",
      "Columns: 240 entries, keyword to bag\n",
      "dtypes: bool(4), int32(230), int64(3), object(3)\n",
      "memory usage: 7.1+ MB\n"
     ]
    }
   ],
   "source": [
    "df.info()"
   ]
  },
  {
   "cell_type": "code",
   "execution_count": 147,
   "id": "a33051e9",
   "metadata": {},
   "outputs": [
    {
     "data": {
      "text/html": [
       "<div>\n",
       "<style scoped>\n",
       "    .dataframe tbody tr th:only-of-type {\n",
       "        vertical-align: middle;\n",
       "    }\n",
       "\n",
       "    .dataframe tbody tr th {\n",
       "        vertical-align: top;\n",
       "    }\n",
       "\n",
       "    .dataframe thead th {\n",
       "        text-align: right;\n",
       "    }\n",
       "</style>\n",
       "<table border=\"1\" class=\"dataframe\">\n",
       "  <thead>\n",
       "    <tr style=\"text-align: right;\">\n",
       "      <th></th>\n",
       "      <th>keyword</th>\n",
       "      <th>location</th>\n",
       "      <th>text</th>\n",
       "      <th>target</th>\n",
       "      <th>location_word_count</th>\n",
       "      <th>isCountry</th>\n",
       "      <th>isCity</th>\n",
       "      <th>isUnknown</th>\n",
       "      <th>isOther</th>\n",
       "      <th>keyword_word_count</th>\n",
       "      <th>...</th>\n",
       "      <th>first</th>\n",
       "      <th>derailed</th>\n",
       "      <th>rescue</th>\n",
       "      <th>rainstorm</th>\n",
       "      <th>hostages</th>\n",
       "      <th>bomb</th>\n",
       "      <th>hurricane</th>\n",
       "      <th>hostage</th>\n",
       "      <th>drought</th>\n",
       "      <th>bag</th>\n",
       "    </tr>\n",
       "    <tr>\n",
       "      <th>id</th>\n",
       "      <th></th>\n",
       "      <th></th>\n",
       "      <th></th>\n",
       "      <th></th>\n",
       "      <th></th>\n",
       "      <th></th>\n",
       "      <th></th>\n",
       "      <th></th>\n",
       "      <th></th>\n",
       "      <th></th>\n",
       "      <th></th>\n",
       "      <th></th>\n",
       "      <th></th>\n",
       "      <th></th>\n",
       "      <th></th>\n",
       "      <th></th>\n",
       "      <th></th>\n",
       "      <th></th>\n",
       "      <th></th>\n",
       "      <th></th>\n",
       "      <th></th>\n",
       "    </tr>\n",
       "  </thead>\n",
       "  <tbody>\n",
       "    <tr>\n",
       "      <th>1</th>\n",
       "      <td>unknown</td>\n",
       "      <td>unknown</td>\n",
       "      <td>Our Deeds are the Reason of this #earthquake M...</td>\n",
       "      <td>1</td>\n",
       "      <td>1</td>\n",
       "      <td>False</td>\n",
       "      <td>False</td>\n",
       "      <td>True</td>\n",
       "      <td>False</td>\n",
       "      <td>1</td>\n",
       "      <td>...</td>\n",
       "      <td>0</td>\n",
       "      <td>0</td>\n",
       "      <td>0</td>\n",
       "      <td>0</td>\n",
       "      <td>0</td>\n",
       "      <td>0</td>\n",
       "      <td>0</td>\n",
       "      <td>0</td>\n",
       "      <td>0</td>\n",
       "      <td>0</td>\n",
       "    </tr>\n",
       "    <tr>\n",
       "      <th>4</th>\n",
       "      <td>unknown</td>\n",
       "      <td>unknown</td>\n",
       "      <td>Forest fire near La Ronge Sask. Canada</td>\n",
       "      <td>1</td>\n",
       "      <td>1</td>\n",
       "      <td>False</td>\n",
       "      <td>False</td>\n",
       "      <td>True</td>\n",
       "      <td>False</td>\n",
       "      <td>1</td>\n",
       "      <td>...</td>\n",
       "      <td>0</td>\n",
       "      <td>0</td>\n",
       "      <td>0</td>\n",
       "      <td>0</td>\n",
       "      <td>0</td>\n",
       "      <td>0</td>\n",
       "      <td>0</td>\n",
       "      <td>0</td>\n",
       "      <td>0</td>\n",
       "      <td>0</td>\n",
       "    </tr>\n",
       "    <tr>\n",
       "      <th>5</th>\n",
       "      <td>unknown</td>\n",
       "      <td>unknown</td>\n",
       "      <td>All residents asked to 'shelter in place' are ...</td>\n",
       "      <td>1</td>\n",
       "      <td>1</td>\n",
       "      <td>False</td>\n",
       "      <td>False</td>\n",
       "      <td>True</td>\n",
       "      <td>False</td>\n",
       "      <td>1</td>\n",
       "      <td>...</td>\n",
       "      <td>0</td>\n",
       "      <td>0</td>\n",
       "      <td>0</td>\n",
       "      <td>0</td>\n",
       "      <td>0</td>\n",
       "      <td>0</td>\n",
       "      <td>0</td>\n",
       "      <td>0</td>\n",
       "      <td>0</td>\n",
       "      <td>0</td>\n",
       "    </tr>\n",
       "    <tr>\n",
       "      <th>6</th>\n",
       "      <td>unknown</td>\n",
       "      <td>unknown</td>\n",
       "      <td>13,000 people receive #wildfires evacuation or...</td>\n",
       "      <td>1</td>\n",
       "      <td>1</td>\n",
       "      <td>False</td>\n",
       "      <td>False</td>\n",
       "      <td>True</td>\n",
       "      <td>False</td>\n",
       "      <td>1</td>\n",
       "      <td>...</td>\n",
       "      <td>0</td>\n",
       "      <td>0</td>\n",
       "      <td>0</td>\n",
       "      <td>0</td>\n",
       "      <td>0</td>\n",
       "      <td>0</td>\n",
       "      <td>0</td>\n",
       "      <td>0</td>\n",
       "      <td>0</td>\n",
       "      <td>0</td>\n",
       "    </tr>\n",
       "    <tr>\n",
       "      <th>7</th>\n",
       "      <td>unknown</td>\n",
       "      <td>unknown</td>\n",
       "      <td>Just got sent this photo from Ruby #Alaska as ...</td>\n",
       "      <td>1</td>\n",
       "      <td>1</td>\n",
       "      <td>False</td>\n",
       "      <td>False</td>\n",
       "      <td>True</td>\n",
       "      <td>False</td>\n",
       "      <td>1</td>\n",
       "      <td>...</td>\n",
       "      <td>0</td>\n",
       "      <td>0</td>\n",
       "      <td>0</td>\n",
       "      <td>0</td>\n",
       "      <td>0</td>\n",
       "      <td>0</td>\n",
       "      <td>0</td>\n",
       "      <td>0</td>\n",
       "      <td>0</td>\n",
       "      <td>0</td>\n",
       "    </tr>\n",
       "  </tbody>\n",
       "</table>\n",
       "<p>5 rows × 240 columns</p>\n",
       "</div>"
      ],
      "text/plain": [
       "    keyword location                                               text  \\\n",
       "id                                                                        \n",
       "1   unknown  unknown  Our Deeds are the Reason of this #earthquake M...   \n",
       "4   unknown  unknown             Forest fire near La Ronge Sask. Canada   \n",
       "5   unknown  unknown  All residents asked to 'shelter in place' are ...   \n",
       "6   unknown  unknown  13,000 people receive #wildfires evacuation or...   \n",
       "7   unknown  unknown  Just got sent this photo from Ruby #Alaska as ...   \n",
       "\n",
       "    target  location_word_count  isCountry  isCity  isUnknown  isOther  \\\n",
       "id                                                                       \n",
       "1        1                    1      False   False       True    False   \n",
       "4        1                    1      False   False       True    False   \n",
       "5        1                    1      False   False       True    False   \n",
       "6        1                    1      False   False       True    False   \n",
       "7        1                    1      False   False       True    False   \n",
       "\n",
       "    keyword_word_count  ...  first  derailed  rescue  rainstorm  hostages  \\\n",
       "id                      ...                                                 \n",
       "1                    1  ...      0         0       0          0         0   \n",
       "4                    1  ...      0         0       0          0         0   \n",
       "5                    1  ...      0         0       0          0         0   \n",
       "6                    1  ...      0         0       0          0         0   \n",
       "7                    1  ...      0         0       0          0         0   \n",
       "\n",
       "    bomb  hurricane  hostage  drought  bag  \n",
       "id                                          \n",
       "1      0          0        0        0    0  \n",
       "4      0          0        0        0    0  \n",
       "5      0          0        0        0    0  \n",
       "6      0          0        0        0    0  \n",
       "7      0          0        0        0    0  \n",
       "\n",
       "[5 rows x 240 columns]"
      ]
     },
     "execution_count": 147,
     "metadata": {},
     "output_type": "execute_result"
    }
   ],
   "source": [
    "df.head()"
   ]
  },
  {
   "cell_type": "code",
   "execution_count": null,
   "id": "0a2bdcc0",
   "metadata": {},
   "outputs": [],
   "source": []
  }
 ],
 "metadata": {
  "kernelspec": {
   "display_name": "Python 3 (ipykernel)",
   "language": "python",
   "name": "python3"
  },
  "language_info": {
   "codemirror_mode": {
    "name": "ipython",
    "version": 3
   },
   "file_extension": ".py",
   "mimetype": "text/x-python",
   "name": "python",
   "nbconvert_exporter": "python",
   "pygments_lexer": "ipython3",
   "version": "3.10.11"
  },
  "toc": {
   "base_numbering": 1,
   "nav_menu": {},
   "number_sections": false,
   "sideBar": true,
   "skip_h1_title": false,
   "title_cell": "Table of Contents",
   "title_sidebar": "Contents",
   "toc_cell": false,
   "toc_position": {},
   "toc_section_display": true,
   "toc_window_display": true
  }
 },
 "nbformat": 4,
 "nbformat_minor": 5
}
